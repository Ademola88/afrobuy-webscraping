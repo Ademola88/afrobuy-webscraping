{
 "cells": [
  {
   "cell_type": "code",
   "execution_count": 6,
   "id": "77f20261",
   "metadata": {},
   "outputs": [],
   "source": [
    ">>> from urllib.request import urlopen"
   ]
  },
  {
   "cell_type": "code",
   "execution_count": 7,
   "id": "f6bed0d6",
   "metadata": {},
   "outputs": [],
   "source": [
    ">>> url = \"http://johnandbiola.co.uk\""
   ]
  },
  {
   "cell_type": "code",
   "execution_count": 8,
   "id": "b6b6df0e",
   "metadata": {},
   "outputs": [],
   "source": [
    ">>> page = urlopen(url)"
   ]
  },
  {
   "cell_type": "code",
   "execution_count": 9,
   "id": "ca0c9dde",
   "metadata": {},
   "outputs": [
    {
     "data": {
      "text/plain": [
       "<http.client.HTTPResponse at 0x20cffe3d730>"
      ]
     },
     "execution_count": 9,
     "metadata": {},
     "output_type": "execute_result"
    }
   ],
   "source": [
    ">>> page"
   ]
  },
  {
   "cell_type": "code",
   "execution_count": 14,
   "id": "bd534d5d",
   "metadata": {},
   "outputs": [],
   "source": [
    ">>> html_bytes = page.read()\n",
    ">>> html = html_bytes.decode(\"utf-8\")\n"
   ]
  },
  {
   "cell_type": "code",
   "execution_count": 15,
   "id": "c1d57369",
   "metadata": {},
   "outputs": [
    {
     "name": "stdout",
     "output_type": "stream",
     "text": [
      "\n"
     ]
    }
   ],
   "source": [
    ">>> print(html)"
   ]
  },
  {
   "cell_type": "code",
   "execution_count": null,
   "id": "7c6b8560",
   "metadata": {},
   "outputs": [],
   "source": []
  }
 ],
 "metadata": {
  "kernelspec": {
   "display_name": "Python 3",
   "language": "python",
   "name": "python3"
  },
  "language_info": {
   "codemirror_mode": {
    "name": "ipython",
    "version": 3
   },
   "file_extension": ".py",
   "mimetype": "text/x-python",
   "name": "python",
   "nbconvert_exporter": "python",
   "pygments_lexer": "ipython3",
   "version": "3.8.8"
  }
 },
 "nbformat": 4,
 "nbformat_minor": 5
}
