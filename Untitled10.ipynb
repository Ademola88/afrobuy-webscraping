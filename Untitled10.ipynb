{
 "cells": [
  {
   "cell_type": "code",
   "execution_count": 1,
   "id": "6c6bf86f",
   "metadata": {},
   "outputs": [],
   "source": [
    "from bs4 import BeautifulSoup\n",
    "import requests\n",
    "import pandas as pd\n",
    "import urllib.parse"
   ]
  },
  {
   "cell_type": "code",
   "execution_count": 2,
   "id": "ca05949a",
   "metadata": {},
   "outputs": [],
   "source": [
    "website = 'https://www.adesfoods.co.uk/ades/groceries/pounded-yam-gari.html'"
   ]
  },
  {
   "cell_type": "code",
   "execution_count": 3,
   "id": "a75b0aa6",
   "metadata": {},
   "outputs": [],
   "source": [
    "response = requests.get(website)"
   ]
  },
  {
   "cell_type": "code",
   "execution_count": 4,
   "id": "a65406b8",
   "metadata": {},
   "outputs": [
    {
     "data": {
      "text/plain": [
       "200"
      ]
     },
     "execution_count": 4,
     "metadata": {},
     "output_type": "execute_result"
    }
   ],
   "source": [
    "response.status_code"
   ]
  },
  {
   "cell_type": "code",
   "execution_count": 5,
   "id": "1821cc9b",
   "metadata": {},
   "outputs": [],
   "source": [
    "soup = BeautifulSoup(response.content,'html.parser')"
   ]
  },
  {
   "cell_type": "code",
   "execution_count": 6,
   "id": "49b5fdb5",
   "metadata": {},
   "outputs": [],
   "source": [
    "results = soup.find_all('div', {'class':'wrapper-hover'})"
   ]
  },
  {
   "cell_type": "code",
   "execution_count": 7,
   "id": "76bc84dd",
   "metadata": {},
   "outputs": [
    {
     "data": {
      "text/plain": [
       "15"
      ]
     },
     "execution_count": 7,
     "metadata": {},
     "output_type": "execute_result"
    }
   ],
   "source": [
    "len(results)"
   ]
  },
  {
   "cell_type": "code",
   "execution_count": 8,
   "id": "160694d9",
   "metadata": {},
   "outputs": [
    {
     "data": {
      "text/plain": [
       "<div class=\"wrapper-hover\">\n",
       "<div class=\"product-image-container\">\n",
       "<a class=\"product-image\" href=\"https://www.adesfoods.co.uk/ades/groceries/pounded-yam-gari/gari-ghana-1-5kg-ades.html\" itemprop=\"url\" title=\"Ades Ghana Gari 1.5kg\">\n",
       "<img alt=\"Ades Ghana Gari 1.5kg\" class=\"lazy\" data-src=\"https://www.adesfoods.co.uk/media/catalog/product/cache/4/small_image/210x/9df78eab33525d08d6e5fb8d27136e95/i/m/img_5832.jpg\" id=\"product-collection-image-338\" src=\"https://www.adesfoods.co.uk/skin/frontend/base/default/images/mgt_lazy_image_loader/loader.gif\" width=\"210\"/>\n",
       "</a>\n",
       "</div>\n",
       "<div class=\"product-info\">\n",
       "<h2 class=\"product-name\">\n",
       "<a href=\"https://www.adesfoods.co.uk/ades/groceries/pounded-yam-gari/gari-ghana-1-5kg-ades.html\" itemprop=\"name\" title=\"Ades Ghana Gari 1.5kg\">\n",
       "                                Ades Ghana Gari 1.5kg\n",
       "                            </a>\n",
       "</h2>\n",
       "<div class=\"desc_grid\" itemprop=\"description\">Gari Ghana 1.5KG  Ades                        </div>\n",
       "<div class=\"price-box\">\n",
       "<span class=\"regular-price\" id=\"product-price-338\">\n",
       "<span class=\"price\">£3.99</span> </span>\n",
       "</div>\n",
       "<div class=\"actions\">\n",
       "<form action=\"https://www.adesfoods.co.uk/ades/checkout/icart/add/uenc/aHR0cHM6Ly93d3cuYWRlc2Zvb2RzLmNvLnVrL2FkZXMvZ3JvY2VyaWVzL3BvdW5kZWQteWFtLWdhcmkuaHRtbA,,/product/338/\" id=\"product_addtocart_form_338\" method=\"post\">\n",
       "<div id=\"getdataform338\">\n",
       "</div>\n",
       "<div class=\"qty-updater\"> <a class=\"left\" href=\"javascript:void(0)\" onclick=\"decrementQty(this);\"><i aria-hidden=\"true\" class=\"fa fa-minus\"></i></a>\n",
       "<input class=\"input-text qty\" id=\"338\" maxlength=\"12\" name=\"qty\" pattern=\"\\d*\" title=\"Qty\" type=\"text\" value=\"1\"/>\n",
       "<a class=\"right\" href=\"javascript:void(0);\" onclick=\"incrementQty(this);\"><i aria-hidden=\"true\" class=\"fa fa-plus\"></i></a></div>\n",
       "<button class=\"button btn-cart del-338\" onclick=\"setLocationAjax('https://www.adesfoods.co.uk/ades/checkout/icart/add/uenc/aHR0cHM6Ly93d3cuYWRlc2Zvb2RzLmNvLnVrL2FkZXMvZ3JvY2VyaWVzL3BvdW5kZWQteWFtLWdhcmkuaHRtbA,,/product/338/','338')\" title=\"Add to Cart\" type=\"button\"><span><span>Add</span></span></button>\n",
       "<span id=\"ajax_loader338\" style=\"display:none\"><img src=\"https://www.adesfoods.co.uk/skin/frontend/adesfoods/default/images/opc-ajax-loader.gif\"/></span>\n",
       "<span class=\"basket-btn\" id=\"inBasket_show_338\" style=\"display:none;\"><i aria-hidden=\"true\" class=\"fa fa-check\"></i><span id=\"inBasketQty338\">0</span> in basket</span>\n",
       "</form>\n",
       "<script type=\"text/javascript\">\n",
       "\n",
       "\n",
       "\t\t\t\t\t\t\t\t\t\t var productAddToCartForm_338 = new VarienForm('product_addtocart_form_338');\n",
       "\t\t\t\t\t\t\t\t\t\t productAddToCartForm_338.submit = function(){\n",
       "\n",
       "\t\t\t\t\t\t\t\t\t\t if (this.validator.validate()) {\n",
       "\t\t\t\t\t\t\t\t\t\tvar url = jQuery('#product_addtocart_form_338').attr( 'action' );\n",
       "\t\t\t\t\t\t\t\t\t\t//alert(url);return false;\n",
       "\t\t\t\t\t\t\t\t\t\t //ajaxcart.ajaxCartSubmit(this);\n",
       "\t\t\t\t\t\t\t\t\t\t\t\t// this.form.submit();\n",
       "\t\t\t\t\t\t\t\t\t\t\t\tjQuery.ajax( {\n",
       "\t\t\t\t\t\t\t\t\t\t\t\turl : url,\n",
       "\t\t\t\t\t\t\t\t\t\t\t\tasync:false,\n",
       "\t\t\t\t\t\t\t\t\t\t\t\tmethod:'post',\n",
       "\t\t\t\t\t\t\t\t\t\t\t\tdata: jQuery(\"#product_addtocart_form_338\").serialize(),\t\t\t\n",
       "\t\t\t\t\t\t\t\t\t\t\t\tsuccess : function(transport) {\n",
       "\t\t\t\t\t\t\t\t\t\t\t\t\tvar resp=new String(transport);   \n",
       "\t\t\t\t\t\t\t\t\t\t\t\t\tevaluate(resp);\n",
       "\t\t\t\t\t\t\t\t\t\t\t\t},\n",
       "\t\t\t\t\t\t\t\t\t\t\t\terror: function (textStatus, errorThrown) {   \n",
       "\t\t\t\t\t\t\t\t\t\t\t\t}\n",
       "\t\t\t\t\t\t\t\t\t\t\t\t});\n",
       "\t\t\t\t\t\t\t\t\t\t\t\t  jQuery('#product_addtocart_338').modal('hide');\n",
       "\t\t\t\t\t\t\t\t\t\t\t\t  jQuery.post( \"https://www.adesfoods.co.uk/ades/checkout/icart/productcnt/\", { product: \"338\" })\n",
       "\t\t\t\t\t\t\t\t\t\t\t\t.done(function( data ) {\n",
       "\t\t\t\t\t\t\t\t\t\t\t\t\tif(data!=0){\n",
       "\t\t\t\t\t\t\t\t\t\t\t\t\tjQuery('#inBasketQty338').html(data);\n",
       "\t\t\t\t\t\t\t\t\t\t\t\t\tjQuery('#inBasket_show_338').show(); \n",
       "\t\t\t\t\t\t\t\t\t\t\t\t\t}\n",
       "\t\t\t\t\t\t\t\t\t\t\t\t});\n",
       "\t\t\t\t\t\t\t\t\t\t\t }\n",
       "\t\t\t\t\t\t\t\t\t\t }.bind(productAddToCartForm_338);\n",
       "\n",
       "\t\t\t\t\t\t\t\t\t</script>\n",
       "<div class=\"clearfix\"></div>\n",
       "<ul class=\"add-to-links\">\n",
       "<li><a class=\"link-wishlist\" href=\"https://www.adesfoods.co.uk/ades/wishlist/index/add/product/338/form_key/Q7hIsKEyRfexp3ER/\">Add to Wishlist</a></li>\n",
       "</ul>\n",
       "</div>\n",
       "</div>\n",
       "<div class=\"label-product\">\n",
       "</div>\n",
       "</div>"
      ]
     },
     "execution_count": 8,
     "metadata": {},
     "output_type": "execute_result"
    }
   ],
   "source": [
    "results[0]"
   ]
  },
  {
   "cell_type": "code",
   "execution_count": 9,
   "id": "ca82a512",
   "metadata": {},
   "outputs": [
    {
     "data": {
      "text/plain": [
       "'\\n\\n                                Ades Ghana Gari 1.5kg\\n                            \\n'"
      ]
     },
     "execution_count": 9,
     "metadata": {},
     "output_type": "execute_result"
    }
   ],
   "source": [
    "results[0].find('h2', {'class': 'product-name'}).get_text()"
   ]
  },
  {
   "cell_type": "code",
   "execution_count": 10,
   "id": "6bcbbfd9",
   "metadata": {},
   "outputs": [
    {
     "data": {
      "text/plain": [
       "'\\n\\n£3.99 \\n'"
      ]
     },
     "execution_count": 10,
     "metadata": {},
     "output_type": "execute_result"
    }
   ],
   "source": [
    "results[0].find('div', {'class': 'price-box'}).get_text()"
   ]
  },
  {
   "cell_type": "code",
   "execution_count": 11,
   "id": "2fd543b4",
   "metadata": {},
   "outputs": [],
   "source": [
    "product_name_class = results[0].find('h2', {'class': 'product-name'})\n",
    "relative_url = product_name_class.find('a').get('href')"
   ]
  },
  {
   "cell_type": "code",
   "execution_count": 12,
   "id": "d3c0c06c",
   "metadata": {},
   "outputs": [],
   "source": [
    "root_url = 'https://www.adesfoods.co.uk/'"
   ]
  },
  {
   "cell_type": "code",
   "execution_count": 13,
   "id": "46ac0902",
   "metadata": {},
   "outputs": [
    {
     "name": "stdout",
     "output_type": "stream",
     "text": [
      "https://www.adesfoods.co.uk/https://www.adesfoods.co.uk/ades/groceries/pounded-yam-gari/gari-ghana-1-5kg-ades.html\n"
     ]
    }
   ],
   "source": [
    "url_combine = root_url + relative_url\n",
    "print(url_combine)"
   ]
  },
  {
   "cell_type": "code",
   "execution_count": 16,
   "id": "2aea92de",
   "metadata": {},
   "outputs": [],
   "source": [
    "product_name = []\n",
    "product_price = []\n",
    "relative_url = []\n",
    "\n",
    "for i in range(1,4):\n",
    "    website = 'https://www.adesfoods.co.uk/ades/groceries/pounded-yam-gari.html?p=' + str(i)\n",
    "    \n",
    "    #request\n",
    "    response = requests.get(website)\n",
    "    \n",
    "    # soup object\n",
    "    soup = BeautifulSoup(response.content,'html.parser')\n",
    "    \n",
    "    # results\n",
    "    results = soup.find_all('div', {'class':'wrapper-hover'})\n",
    "    \n",
    "    #loop through results\n",
    "    for result in results:\n",
    "         #name\n",
    "        try:\n",
    "            product_name.append(result.find('h2', {'class': 'product-name'}).get_text())\n",
    "        except:\n",
    "            product_name.append('n/a')\n",
    "\n",
    "         #price\n",
    "        try:\n",
    "            product_price.append(result.find('div', {'class': 'price-box'}).get_text())\n",
    "        except:\n",
    "            product_price.append('n/a')\n",
    "\n",
    "         #relative url\n",
    "        try:\n",
    "            relative_url.append(result.find('a').get('href'))\n",
    "        except:\n",
    "            relative_url.append('n/a')\n"
   ]
  },
  {
   "cell_type": "code",
   "execution_count": 17,
   "id": "4be28a69",
   "metadata": {},
   "outputs": [],
   "source": [
    "url_combined = []\n",
    "\n",
    "for link in relative_url:\n",
    "    url_combined.append(urllib.parse.urljoin(root_url,link))"
   ]
  },
  {
   "cell_type": "code",
   "execution_count": 18,
   "id": "b3412618",
   "metadata": {},
   "outputs": [],
   "source": [
    "product_overview = pd.DataFrame({'Name': product_name, 'Price': product_price })"
   ]
  },
  {
   "cell_type": "code",
   "execution_count": 19,
   "id": "291b406f",
   "metadata": {},
   "outputs": [
    {
     "data": {
      "text/html": [
       "<div>\n",
       "<style scoped>\n",
       "    .dataframe tbody tr th:only-of-type {\n",
       "        vertical-align: middle;\n",
       "    }\n",
       "\n",
       "    .dataframe tbody tr th {\n",
       "        vertical-align: top;\n",
       "    }\n",
       "\n",
       "    .dataframe thead th {\n",
       "        text-align: right;\n",
       "    }\n",
       "</style>\n",
       "<table border=\"1\" class=\"dataframe\">\n",
       "  <thead>\n",
       "    <tr style=\"text-align: right;\">\n",
       "      <th></th>\n",
       "      <th>Name</th>\n",
       "      <th>Price</th>\n",
       "    </tr>\n",
       "  </thead>\n",
       "  <tbody>\n",
       "    <tr>\n",
       "      <th>0</th>\n",
       "      <td>\\n\\n                                Ades Ghana...</td>\n",
       "      <td>\\n\\n£3.99 \\n</td>\n",
       "    </tr>\n",
       "    <tr>\n",
       "      <th>1</th>\n",
       "      <td>\\n\\n                                Ades Ghana...</td>\n",
       "      <td>\\n\\n£24.99 \\n</td>\n",
       "    </tr>\n",
       "    <tr>\n",
       "      <th>2</th>\n",
       "      <td>\\n\\n                                Ades Ghana...</td>\n",
       "      <td>\\n\\n£6.99 \\n</td>\n",
       "    </tr>\n",
       "    <tr>\n",
       "      <th>3</th>\n",
       "      <td>\\n\\n                                Ades Ghana...</td>\n",
       "      <td>\\n\\n£12.99 \\n</td>\n",
       "    </tr>\n",
       "    <tr>\n",
       "      <th>4</th>\n",
       "      <td>\\n\\n                                Ades Ijebu...</td>\n",
       "      <td>\\n\\n£2.99 \\n</td>\n",
       "    </tr>\n",
       "    <tr>\n",
       "      <th>5</th>\n",
       "      <td>\\n\\n                                Ades Ijebu...</td>\n",
       "      <td>\\n\\n£24.99 \\n</td>\n",
       "    </tr>\n",
       "    <tr>\n",
       "      <th>6</th>\n",
       "      <td>\\n\\n                                Ades Ijebu...</td>\n",
       "      <td>\\n\\n£5.99 \\n</td>\n",
       "    </tr>\n",
       "    <tr>\n",
       "      <th>7</th>\n",
       "      <td>\\n\\n                                Ades Ijebu...</td>\n",
       "      <td>\\n\\n£13.99 \\n</td>\n",
       "    </tr>\n",
       "    <tr>\n",
       "      <th>8</th>\n",
       "      <td>\\n\\n                                Ades Pound...</td>\n",
       "      <td>\\n\\n£2.99 \\n</td>\n",
       "    </tr>\n",
       "    <tr>\n",
       "      <th>9</th>\n",
       "      <td>\\n\\n                                Ades Pound...</td>\n",
       "      <td>\\n\\n£32.99 \\n</td>\n",
       "    </tr>\n",
       "    <tr>\n",
       "      <th>10</th>\n",
       "      <td>\\n\\n                                Ades Pound...</td>\n",
       "      <td>\\n\\n£8.99 \\n</td>\n",
       "    </tr>\n",
       "    <tr>\n",
       "      <th>11</th>\n",
       "      <td>\\n\\n                                Ades Pound...</td>\n",
       "      <td>\\n\\n£18.99 \\n</td>\n",
       "    </tr>\n",
       "    <tr>\n",
       "      <th>12</th>\n",
       "      <td>\\n\\n                                Ades Yello...</td>\n",
       "      <td>\\n\\n£3.49 \\n</td>\n",
       "    </tr>\n",
       "    <tr>\n",
       "      <th>13</th>\n",
       "      <td>\\n\\n                                Ades Yello...</td>\n",
       "      <td>\\n\\n£26.99 \\n</td>\n",
       "    </tr>\n",
       "    <tr>\n",
       "      <th>14</th>\n",
       "      <td>\\n\\n                                Ades Yello...</td>\n",
       "      <td>\\n\\n£6.99 \\n</td>\n",
       "    </tr>\n",
       "    <tr>\n",
       "      <th>15</th>\n",
       "      <td>\\n\\n                                Ades Yello...</td>\n",
       "      <td>\\n\\n£14.99 \\n</td>\n",
       "    </tr>\n",
       "    <tr>\n",
       "      <th>16</th>\n",
       "      <td>\\n\\n                                Adun Pound...</td>\n",
       "      <td>\\n\\n£8.99 \\n</td>\n",
       "    </tr>\n",
       "    <tr>\n",
       "      <th>17</th>\n",
       "      <td>\\n\\n                                Adun Pound...</td>\n",
       "      <td>\\n\\n£16.99 \\n</td>\n",
       "    </tr>\n",
       "    <tr>\n",
       "      <th>18</th>\n",
       "      <td>\\n\\n                                Eniola Pou...</td>\n",
       "      <td>\\n\\n£4.29 \\n</td>\n",
       "    </tr>\n",
       "    <tr>\n",
       "      <th>19</th>\n",
       "      <td>\\n\\n                                Eniola Pou...</td>\n",
       "      <td>\\n\\n£9.99 \\n</td>\n",
       "    </tr>\n",
       "    <tr>\n",
       "      <th>20</th>\n",
       "      <td>\\n\\n                                Eniola Pou...</td>\n",
       "      <td>\\n\\n£15.99 \\n</td>\n",
       "    </tr>\n",
       "    <tr>\n",
       "      <th>21</th>\n",
       "      <td>\\n\\n                                Homeland F...</td>\n",
       "      <td>\\n\\n£5.49 \\n</td>\n",
       "    </tr>\n",
       "    <tr>\n",
       "      <th>22</th>\n",
       "      <td>\\n\\n                                Lagos Poun...</td>\n",
       "      <td>\\n\\n£7.99 \\n</td>\n",
       "    </tr>\n",
       "    <tr>\n",
       "      <th>23</th>\n",
       "      <td>\\n\\n                                Niji Foods...</td>\n",
       "      <td>\\n\\n£1.99 \\n</td>\n",
       "    </tr>\n",
       "    <tr>\n",
       "      <th>24</th>\n",
       "      <td>\\n\\n                                Oat Pounde...</td>\n",
       "      <td>\\n\\n£3.99 \\n</td>\n",
       "    </tr>\n",
       "    <tr>\n",
       "      <th>25</th>\n",
       "      <td>\\n\\n                                Ofi Pounde...</td>\n",
       "      <td>\\n\\n£4.99 \\n</td>\n",
       "    </tr>\n",
       "    <tr>\n",
       "      <th>26</th>\n",
       "      <td>\\n\\n                                Ola Ola Po...</td>\n",
       "      <td>\\n\\n£8.99 \\n</td>\n",
       "    </tr>\n",
       "    <tr>\n",
       "      <th>27</th>\n",
       "      <td>\\n\\n                                Ola Ola Po...</td>\n",
       "      <td>\\n\\n£19.99 \\n</td>\n",
       "    </tr>\n",
       "    <tr>\n",
       "      <th>28</th>\n",
       "      <td>\\n\\n                                Ola Ola Po...</td>\n",
       "      <td>\\n\\n£37.99 \\n</td>\n",
       "    </tr>\n",
       "    <tr>\n",
       "      <th>29</th>\n",
       "      <td>\\n\\n                                Olu Olu Po...</td>\n",
       "      <td>\\n\\n£3.99 \\n</td>\n",
       "    </tr>\n",
       "    <tr>\n",
       "      <th>30</th>\n",
       "      <td>\\n\\n                                Olu Olu Po...</td>\n",
       "      <td>\\n\\n£10.99 \\n</td>\n",
       "    </tr>\n",
       "    <tr>\n",
       "      <th>31</th>\n",
       "      <td>\\n\\n                                Olu Olu Po...</td>\n",
       "      <td>\\n\\n£18.99 \\n</td>\n",
       "    </tr>\n",
       "    <tr>\n",
       "      <th>32</th>\n",
       "      <td>\\n\\n                                Pounded Ya...</td>\n",
       "      <td>\\n\\n£10.99 \\n</td>\n",
       "    </tr>\n",
       "    <tr>\n",
       "      <th>33</th>\n",
       "      <td>\\n\\n                                Racheal Ye...</td>\n",
       "      <td>\\n\\n£15.49 \\n</td>\n",
       "    </tr>\n",
       "    <tr>\n",
       "      <th>34</th>\n",
       "      <td>\\n\\n                                Racheal Ye...</td>\n",
       "      <td>\\n\\n£29.99 \\n</td>\n",
       "    </tr>\n",
       "    <tr>\n",
       "      <th>35</th>\n",
       "      <td>\\n\\n                                S&amp;T Pounde...</td>\n",
       "      <td>\\n\\n£4.49 \\n</td>\n",
       "    </tr>\n",
       "    <tr>\n",
       "      <th>36</th>\n",
       "      <td>\\n\\n                                S&amp;T Pounde...</td>\n",
       "      <td>\\n\\n£9.99 \\n</td>\n",
       "    </tr>\n",
       "    <tr>\n",
       "      <th>37</th>\n",
       "      <td>\\n\\n                                Wa-Zo-Bia ...</td>\n",
       "      <td>\\n\\n£16.99 \\n</td>\n",
       "    </tr>\n",
       "  </tbody>\n",
       "</table>\n",
       "</div>"
      ],
      "text/plain": [
       "                                                 Name          Price\n",
       "0   \\n\\n                                Ades Ghana...   \\n\\n£3.99 \\n\n",
       "1   \\n\\n                                Ades Ghana...  \\n\\n£24.99 \\n\n",
       "2   \\n\\n                                Ades Ghana...   \\n\\n£6.99 \\n\n",
       "3   \\n\\n                                Ades Ghana...  \\n\\n£12.99 \\n\n",
       "4   \\n\\n                                Ades Ijebu...   \\n\\n£2.99 \\n\n",
       "5   \\n\\n                                Ades Ijebu...  \\n\\n£24.99 \\n\n",
       "6   \\n\\n                                Ades Ijebu...   \\n\\n£5.99 \\n\n",
       "7   \\n\\n                                Ades Ijebu...  \\n\\n£13.99 \\n\n",
       "8   \\n\\n                                Ades Pound...   \\n\\n£2.99 \\n\n",
       "9   \\n\\n                                Ades Pound...  \\n\\n£32.99 \\n\n",
       "10  \\n\\n                                Ades Pound...   \\n\\n£8.99 \\n\n",
       "11  \\n\\n                                Ades Pound...  \\n\\n£18.99 \\n\n",
       "12  \\n\\n                                Ades Yello...   \\n\\n£3.49 \\n\n",
       "13  \\n\\n                                Ades Yello...  \\n\\n£26.99 \\n\n",
       "14  \\n\\n                                Ades Yello...   \\n\\n£6.99 \\n\n",
       "15  \\n\\n                                Ades Yello...  \\n\\n£14.99 \\n\n",
       "16  \\n\\n                                Adun Pound...   \\n\\n£8.99 \\n\n",
       "17  \\n\\n                                Adun Pound...  \\n\\n£16.99 \\n\n",
       "18  \\n\\n                                Eniola Pou...   \\n\\n£4.29 \\n\n",
       "19  \\n\\n                                Eniola Pou...   \\n\\n£9.99 \\n\n",
       "20  \\n\\n                                Eniola Pou...  \\n\\n£15.99 \\n\n",
       "21  \\n\\n                                Homeland F...   \\n\\n£5.49 \\n\n",
       "22  \\n\\n                                Lagos Poun...   \\n\\n£7.99 \\n\n",
       "23  \\n\\n                                Niji Foods...   \\n\\n£1.99 \\n\n",
       "24  \\n\\n                                Oat Pounde...   \\n\\n£3.99 \\n\n",
       "25  \\n\\n                                Ofi Pounde...   \\n\\n£4.99 \\n\n",
       "26  \\n\\n                                Ola Ola Po...   \\n\\n£8.99 \\n\n",
       "27  \\n\\n                                Ola Ola Po...  \\n\\n£19.99 \\n\n",
       "28  \\n\\n                                Ola Ola Po...  \\n\\n£37.99 \\n\n",
       "29  \\n\\n                                Olu Olu Po...   \\n\\n£3.99 \\n\n",
       "30  \\n\\n                                Olu Olu Po...  \\n\\n£10.99 \\n\n",
       "31  \\n\\n                                Olu Olu Po...  \\n\\n£18.99 \\n\n",
       "32  \\n\\n                                Pounded Ya...  \\n\\n£10.99 \\n\n",
       "33  \\n\\n                                Racheal Ye...  \\n\\n£15.49 \\n\n",
       "34  \\n\\n                                Racheal Ye...  \\n\\n£29.99 \\n\n",
       "35  \\n\\n                                S&T Pounde...   \\n\\n£4.49 \\n\n",
       "36  \\n\\n                                S&T Pounde...   \\n\\n£9.99 \\n\n",
       "37  \\n\\n                                Wa-Zo-Bia ...  \\n\\n£16.99 \\n"
      ]
     },
     "execution_count": 19,
     "metadata": {},
     "output_type": "execute_result"
    }
   ],
   "source": [
    "product_overview"
   ]
  },
  {
   "cell_type": "code",
   "execution_count": 20,
   "id": "1c1a8afa",
   "metadata": {},
   "outputs": [],
   "source": [
    "product_overview.to_excel('results_poundedyamgarri_page.xlsx', index=False)"
   ]
  },
  {
   "cell_type": "code",
   "execution_count": null,
   "id": "d1d9c0d9",
   "metadata": {},
   "outputs": [],
   "source": []
  }
 ],
 "metadata": {
  "kernelspec": {
   "display_name": "Python 3",
   "language": "python",
   "name": "python3"
  },
  "language_info": {
   "codemirror_mode": {
    "name": "ipython",
    "version": 3
   },
   "file_extension": ".py",
   "mimetype": "text/x-python",
   "name": "python",
   "nbconvert_exporter": "python",
   "pygments_lexer": "ipython3",
   "version": "3.8.8"
  }
 },
 "nbformat": 4,
 "nbformat_minor": 5
}
