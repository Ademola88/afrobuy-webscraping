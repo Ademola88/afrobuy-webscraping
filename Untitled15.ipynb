{
 "cells": [
  {
   "cell_type": "code",
   "execution_count": 1,
   "id": "dcc876d8",
   "metadata": {},
   "outputs": [],
   "source": [
    "from bs4 import BeautifulSoup\n",
    "import requests\n",
    "import pandas as pd\n",
    "import urllib.parse"
   ]
  },
  {
   "cell_type": "code",
   "execution_count": 4,
   "id": "b95e7046",
   "metadata": {},
   "outputs": [],
   "source": [
    "website = 'https://www.adesfoods.co.uk/ades/fruit-veg-ethnic-foods/dried-vegetables.html'"
   ]
  },
  {
   "cell_type": "code",
   "execution_count": 5,
   "id": "6b4acb0f",
   "metadata": {},
   "outputs": [],
   "source": [
    "response = requests.get(website)"
   ]
  },
  {
   "cell_type": "code",
   "execution_count": 6,
   "id": "b029e2be",
   "metadata": {},
   "outputs": [
    {
     "data": {
      "text/plain": [
       "200"
      ]
     },
     "execution_count": 6,
     "metadata": {},
     "output_type": "execute_result"
    }
   ],
   "source": [
    "response.status_code"
   ]
  },
  {
   "cell_type": "code",
   "execution_count": 7,
   "id": "bcd995f6",
   "metadata": {},
   "outputs": [],
   "source": [
    "soup = BeautifulSoup(response.content,'html.parser')"
   ]
  },
  {
   "cell_type": "code",
   "execution_count": 8,
   "id": "de1df638",
   "metadata": {},
   "outputs": [],
   "source": [
    "results = soup.find_all('div', {'class':'wrapper-hover'})"
   ]
  },
  {
   "cell_type": "code",
   "execution_count": 9,
   "id": "dc8875e1",
   "metadata": {},
   "outputs": [
    {
     "data": {
      "text/plain": [
       "15"
      ]
     },
     "execution_count": 9,
     "metadata": {},
     "output_type": "execute_result"
    }
   ],
   "source": [
    "len(results)"
   ]
  },
  {
   "cell_type": "code",
   "execution_count": 10,
   "id": "e6a8a79a",
   "metadata": {},
   "outputs": [
    {
     "data": {
      "text/plain": [
       "<div class=\"wrapper-hover\">\n",
       "<div class=\"product-image-container\">\n",
       "<a class=\"product-image\" href=\"https://www.adesfoods.co.uk/ades/fruit-veg-ethnic-foods/dried-vegetables/abacha-150g.html\" itemprop=\"url\" title=\"Ades Abacha 150g\">\n",
       "<img alt=\"Ades Abacha 150g\" class=\"lazy\" data-src=\"https://www.adesfoods.co.uk/media/catalog/product/cache/4/small_image/210x/9df78eab33525d08d6e5fb8d27136e95/d/r/dried_cassava_015.jpg\" id=\"product-collection-image-2259\" src=\"https://www.adesfoods.co.uk/skin/frontend/base/default/images/mgt_lazy_image_loader/loader.gif\" width=\"210\"/>\n",
       "</a>\n",
       "</div>\n",
       "<div class=\"product-info\">\n",
       "<h2 class=\"product-name\">\n",
       "<a href=\"https://www.adesfoods.co.uk/ades/fruit-veg-ethnic-foods/dried-vegetables/abacha-150g.html\" itemprop=\"name\" title=\"Ades Abacha 150g\">\n",
       "                                Ades Abacha 150g\n",
       "                            </a>\n",
       "</h2>\n",
       "<div class=\"desc_grid\" itemprop=\"description\">Abacha / African Salad 150g                        </div>\n",
       "<div class=\"price-box\">\n",
       "<span class=\"regular-price\" id=\"product-price-2259\">\n",
       "<span class=\"price\">£1.99</span> </span>\n",
       "</div>\n",
       "<div class=\"actions\">\n",
       "<form action=\"https://www.adesfoods.co.uk/ades/checkout/icart/add/uenc/aHR0cHM6Ly93d3cuYWRlc2Zvb2RzLmNvLnVrL2FkZXMvZnJ1aXQtdmVnLWV0aG5pYy1mb29kcy9kcmllZC12ZWdldGFibGVzLmh0bWw,/product/2259/\" id=\"product_addtocart_form_2259\" method=\"post\">\n",
       "<div id=\"getdataform2259\">\n",
       "</div>\n",
       "<div class=\"qty-updater\"> <a class=\"left\" href=\"javascript:void(0)\" onclick=\"decrementQty(this);\"><i aria-hidden=\"true\" class=\"fa fa-minus\"></i></a>\n",
       "<input class=\"input-text qty\" id=\"2259\" maxlength=\"12\" name=\"qty\" pattern=\"\\d*\" title=\"Qty\" type=\"text\" value=\"1\"/>\n",
       "<a class=\"right\" href=\"javascript:void(0);\" onclick=\"incrementQty(this);\"><i aria-hidden=\"true\" class=\"fa fa-plus\"></i></a></div>\n",
       "<button class=\"button btn-cart del-2259\" onclick=\"setLocationAjax('https://www.adesfoods.co.uk/ades/checkout/icart/add/uenc/aHR0cHM6Ly93d3cuYWRlc2Zvb2RzLmNvLnVrL2FkZXMvZnJ1aXQtdmVnLWV0aG5pYy1mb29kcy9kcmllZC12ZWdldGFibGVzLmh0bWw,/product/2259/','2259')\" title=\"Add to Cart\" type=\"button\"><span><span>Add</span></span></button>\n",
       "<span id=\"ajax_loader2259\" style=\"display:none\"><img src=\"https://www.adesfoods.co.uk/skin/frontend/adesfoods/default/images/opc-ajax-loader.gif\"/></span>\n",
       "<span class=\"basket-btn\" id=\"inBasket_show_2259\" style=\"display:none;\"><i aria-hidden=\"true\" class=\"fa fa-check\"></i><span id=\"inBasketQty2259\">0</span> in basket</span>\n",
       "</form>\n",
       "<script type=\"text/javascript\">\n",
       "\n",
       "\n",
       "\t\t\t\t\t\t\t\t\t\t var productAddToCartForm_2259 = new VarienForm('product_addtocart_form_2259');\n",
       "\t\t\t\t\t\t\t\t\t\t productAddToCartForm_2259.submit = function(){\n",
       "\n",
       "\t\t\t\t\t\t\t\t\t\t if (this.validator.validate()) {\n",
       "\t\t\t\t\t\t\t\t\t\tvar url = jQuery('#product_addtocart_form_2259').attr( 'action' );\n",
       "\t\t\t\t\t\t\t\t\t\t//alert(url);return false;\n",
       "\t\t\t\t\t\t\t\t\t\t //ajaxcart.ajaxCartSubmit(this);\n",
       "\t\t\t\t\t\t\t\t\t\t\t\t// this.form.submit();\n",
       "\t\t\t\t\t\t\t\t\t\t\t\tjQuery.ajax( {\n",
       "\t\t\t\t\t\t\t\t\t\t\t\turl : url,\n",
       "\t\t\t\t\t\t\t\t\t\t\t\tasync:false,\n",
       "\t\t\t\t\t\t\t\t\t\t\t\tmethod:'post',\n",
       "\t\t\t\t\t\t\t\t\t\t\t\tdata: jQuery(\"#product_addtocart_form_2259\").serialize(),\t\t\t\n",
       "\t\t\t\t\t\t\t\t\t\t\t\tsuccess : function(transport) {\n",
       "\t\t\t\t\t\t\t\t\t\t\t\t\tvar resp=new String(transport);   \n",
       "\t\t\t\t\t\t\t\t\t\t\t\t\tevaluate(resp);\n",
       "\t\t\t\t\t\t\t\t\t\t\t\t},\n",
       "\t\t\t\t\t\t\t\t\t\t\t\terror: function (textStatus, errorThrown) {   \n",
       "\t\t\t\t\t\t\t\t\t\t\t\t}\n",
       "\t\t\t\t\t\t\t\t\t\t\t\t});\n",
       "\t\t\t\t\t\t\t\t\t\t\t\t  jQuery('#product_addtocart_2259').modal('hide');\n",
       "\t\t\t\t\t\t\t\t\t\t\t\t  jQuery.post( \"https://www.adesfoods.co.uk/ades/checkout/icart/productcnt/\", { product: \"2259\" })\n",
       "\t\t\t\t\t\t\t\t\t\t\t\t.done(function( data ) {\n",
       "\t\t\t\t\t\t\t\t\t\t\t\t\tif(data!=0){\n",
       "\t\t\t\t\t\t\t\t\t\t\t\t\tjQuery('#inBasketQty2259').html(data);\n",
       "\t\t\t\t\t\t\t\t\t\t\t\t\tjQuery('#inBasket_show_2259').show(); \n",
       "\t\t\t\t\t\t\t\t\t\t\t\t\t}\n",
       "\t\t\t\t\t\t\t\t\t\t\t\t});\n",
       "\t\t\t\t\t\t\t\t\t\t\t }\n",
       "\t\t\t\t\t\t\t\t\t\t }.bind(productAddToCartForm_2259);\n",
       "\n",
       "\t\t\t\t\t\t\t\t\t</script>\n",
       "<div class=\"clearfix\"></div>\n",
       "<ul class=\"add-to-links\">\n",
       "<li><a class=\"link-wishlist\" href=\"https://www.adesfoods.co.uk/ades/wishlist/index/add/product/2259/form_key/Gy2rxews5dRWNHEj/\">Add to Wishlist</a></li>\n",
       "</ul>\n",
       "</div>\n",
       "</div>\n",
       "<div class=\"label-product\">\n",
       "</div>\n",
       "</div>"
      ]
     },
     "execution_count": 10,
     "metadata": {},
     "output_type": "execute_result"
    }
   ],
   "source": [
    "results[0]"
   ]
  },
  {
   "cell_type": "code",
   "execution_count": 11,
   "id": "86ae759c",
   "metadata": {},
   "outputs": [
    {
     "data": {
      "text/plain": [
       "'\\n\\n                                Ades Abacha 150g\\n                            \\n'"
      ]
     },
     "execution_count": 11,
     "metadata": {},
     "output_type": "execute_result"
    }
   ],
   "source": [
    "results[0].find('h2', {'class': 'product-name'}).get_text()"
   ]
  },
  {
   "cell_type": "code",
   "execution_count": 12,
   "id": "f9cbbc7b",
   "metadata": {},
   "outputs": [
    {
     "data": {
      "text/plain": [
       "'\\n\\n£1.99 \\n'"
      ]
     },
     "execution_count": 12,
     "metadata": {},
     "output_type": "execute_result"
    }
   ],
   "source": [
    "results[0].find('div', {'class': 'price-box'}).get_text()"
   ]
  },
  {
   "cell_type": "code",
   "execution_count": 13,
   "id": "96e08ccb",
   "metadata": {},
   "outputs": [],
   "source": [
    "product_name_class = results[0].find('h2', {'class': 'product-name'})\n",
    "relative_url = product_name_class.find('a').get('href')"
   ]
  },
  {
   "cell_type": "code",
   "execution_count": 14,
   "id": "6d640fb9",
   "metadata": {},
   "outputs": [],
   "source": [
    "root_url = 'https://www.adesfoods.co.uk/'"
   ]
  },
  {
   "cell_type": "code",
   "execution_count": 15,
   "id": "e8e572ab",
   "metadata": {},
   "outputs": [
    {
     "name": "stdout",
     "output_type": "stream",
     "text": [
      "https://www.adesfoods.co.uk/https://www.adesfoods.co.uk/ades/fruit-veg-ethnic-foods/dried-vegetables/abacha-150g.html\n"
     ]
    }
   ],
   "source": [
    "url_combine = root_url + relative_url\n",
    "print(url_combine)"
   ]
  },
  {
   "cell_type": "code",
   "execution_count": 16,
   "id": "c1aacda7",
   "metadata": {},
   "outputs": [],
   "source": [
    "product_name = []\n",
    "product_price = []\n",
    "relative_url = []\n",
    "\n",
    "for i in range(1,4):\n",
    "    website = 'https://www.adesfoods.co.uk/ades/fruit-veg-ethnic-foods/fresh-vegetables.html?p=' + str(i)\n",
    "    \n",
    "    #request\n",
    "    response = requests.get(website)\n",
    "    \n",
    "    # soup object\n",
    "    soup = BeautifulSoup(response.content,'html.parser')\n",
    "    \n",
    "    # results\n",
    "    results = soup.find_all('div', {'class':'wrapper-hover'})\n",
    "    \n",
    "    #loop through results\n",
    "    for result in results:\n",
    "         #name\n",
    "        try:\n",
    "            product_name.append(result.find('h2', {'class': 'product-name'}).get_text())\n",
    "        except:\n",
    "            product_name.append('n/a')\n",
    "\n",
    "         #price\n",
    "        try:\n",
    "            product_price.append(result.find('div', {'class': 'price-box'}).get_text())\n",
    "        except:\n",
    "            product_price.append('n/a')\n",
    "\n",
    "         #relative url\n",
    "        try:\n",
    "            relative_url.append(result.find('a').get('href'))\n",
    "        except:\n",
    "            relative_url.append('n/a')\n"
   ]
  },
  {
   "cell_type": "code",
   "execution_count": 17,
   "id": "469c2a69",
   "metadata": {},
   "outputs": [],
   "source": [
    "url_combined = []\n",
    "\n",
    "for link in relative_url:\n",
    "    url_combined.append(urllib.parse.urljoin(root_url,link))"
   ]
  },
  {
   "cell_type": "code",
   "execution_count": 18,
   "id": "342a74e5",
   "metadata": {},
   "outputs": [],
   "source": [
    "product_overview = pd.DataFrame({'Name': product_name, 'Price': product_price })"
   ]
  },
  {
   "cell_type": "code",
   "execution_count": 19,
   "id": "e91abf13",
   "metadata": {},
   "outputs": [
    {
     "data": {
      "text/html": [
       "<div>\n",
       "<style scoped>\n",
       "    .dataframe tbody tr th:only-of-type {\n",
       "        vertical-align: middle;\n",
       "    }\n",
       "\n",
       "    .dataframe tbody tr th {\n",
       "        vertical-align: top;\n",
       "    }\n",
       "\n",
       "    .dataframe thead th {\n",
       "        text-align: right;\n",
       "    }\n",
       "</style>\n",
       "<table border=\"1\" class=\"dataframe\">\n",
       "  <thead>\n",
       "    <tr style=\"text-align: right;\">\n",
       "      <th></th>\n",
       "      <th>Name</th>\n",
       "      <th>Price</th>\n",
       "    </tr>\n",
       "  </thead>\n",
       "  <tbody>\n",
       "    <tr>\n",
       "      <th>0</th>\n",
       "      <td>\\n\\n                                Cassava Pe...</td>\n",
       "      <td>\\n\\n£1.99 \\n</td>\n",
       "    </tr>\n",
       "    <tr>\n",
       "      <th>1</th>\n",
       "      <td>\\n\\n                                Fresh  Swe...</td>\n",
       "      <td>\\n\\n£0.79 \\n</td>\n",
       "    </tr>\n",
       "    <tr>\n",
       "      <th>2</th>\n",
       "      <td>\\n\\n                                Fresh Bitt...</td>\n",
       "      <td>\\n\\n£1.50 \\n</td>\n",
       "    </tr>\n",
       "    <tr>\n",
       "      <th>3</th>\n",
       "      <td>\\n\\n                                Fresh Ewed...</td>\n",
       "      <td>\\n\\n£1.50 \\n</td>\n",
       "    </tr>\n",
       "    <tr>\n",
       "      <th>4</th>\n",
       "      <td>\\n\\n                                Fresh Gard...</td>\n",
       "      <td>\\n\\n£1.00 \\n</td>\n",
       "    </tr>\n",
       "    <tr>\n",
       "      <th>5</th>\n",
       "      <td>\\n\\n                                Fresh Garl...</td>\n",
       "      <td>\\n\\n£1.00 \\n</td>\n",
       "    </tr>\n",
       "    <tr>\n",
       "      <th>6</th>\n",
       "      <td>\\n\\n                                Fresh Gree...</td>\n",
       "      <td>\\n\\n£1.50 \\n</td>\n",
       "    </tr>\n",
       "    <tr>\n",
       "      <th>7</th>\n",
       "      <td>\\n\\n                                Fresh Gree...</td>\n",
       "      <td>\\n\\n£0.50 \\n</td>\n",
       "    </tr>\n",
       "    <tr>\n",
       "      <th>8</th>\n",
       "      <td>\\n\\n                                Fresh Gree...</td>\n",
       "      <td>\\n\\nAs low as:\\n£1.00 \\n</td>\n",
       "    </tr>\n",
       "    <tr>\n",
       "      <th>9</th>\n",
       "      <td>\\n\\n                                Fresh Igbo...</td>\n",
       "      <td>\\n\\n£1.50 \\n</td>\n",
       "    </tr>\n",
       "    <tr>\n",
       "      <th>10</th>\n",
       "      <td>\\n\\n                                Fresh Lemo...</td>\n",
       "      <td>\\n\\n£0.30 \\n</td>\n",
       "    </tr>\n",
       "    <tr>\n",
       "      <th>11</th>\n",
       "      <td>\\n\\n                                Fresh Lime...</td>\n",
       "      <td>\\n\\n£0.30 \\n</td>\n",
       "    </tr>\n",
       "    <tr>\n",
       "      <th>12</th>\n",
       "      <td>\\n\\n                                Fresh Moin...</td>\n",
       "      <td>\\n\\n£1.50 \\n</td>\n",
       "    </tr>\n",
       "    <tr>\n",
       "      <th>13</th>\n",
       "      <td>\\n\\n                                Fresh Oha ...</td>\n",
       "      <td>\\n\\n£1.50 \\n</td>\n",
       "    </tr>\n",
       "    <tr>\n",
       "      <th>14</th>\n",
       "      <td>\\n\\n                                Fresh Onio...</td>\n",
       "      <td>\\n\\n£1.99 \\n</td>\n",
       "    </tr>\n",
       "    <tr>\n",
       "      <th>15</th>\n",
       "      <td>\\n\\n                                Fresh Puna...</td>\n",
       "      <td>\\n\\n£4.00 \\n</td>\n",
       "    </tr>\n",
       "    <tr>\n",
       "      <th>16</th>\n",
       "      <td>\\n\\n                                Fresh Puna...</td>\n",
       "      <td>\\n\\nAs low as:\\n£37.99 \\n</td>\n",
       "    </tr>\n",
       "    <tr>\n",
       "      <th>17</th>\n",
       "      <td>\\n\\n                                Fresh Red ...</td>\n",
       "      <td>\\n\\n£2.49 \\n</td>\n",
       "    </tr>\n",
       "    <tr>\n",
       "      <th>18</th>\n",
       "      <td>\\n\\n                                Fresh Red ...</td>\n",
       "      <td>\\n\\n£0.50 \\n</td>\n",
       "    </tr>\n",
       "    <tr>\n",
       "      <th>19</th>\n",
       "      <td>\\n\\n                                Fresh Ripe...</td>\n",
       "      <td>\\n\\n£0.50 \\n</td>\n",
       "    </tr>\n",
       "    <tr>\n",
       "      <th>20</th>\n",
       "      <td>\\n\\n                                Fresh Ripe...</td>\n",
       "      <td>\\n\\nAs low as:\\n£1.00 \\n</td>\n",
       "    </tr>\n",
       "    <tr>\n",
       "      <th>21</th>\n",
       "      <td>\\n\\n                                Fresh Ripe...</td>\n",
       "      <td>\\n\\nAs low as:\\n£26.00 \\n</td>\n",
       "    </tr>\n",
       "    <tr>\n",
       "      <th>22</th>\n",
       "      <td>\\n\\n                                Fresh Scen...</td>\n",
       "      <td>\\n\\n£1.50 \\n</td>\n",
       "    </tr>\n",
       "    <tr>\n",
       "      <th>23</th>\n",
       "      <td>\\n\\n                                Fresh Soko...</td>\n",
       "      <td>\\n\\n£1.50 \\n</td>\n",
       "    </tr>\n",
       "    <tr>\n",
       "      <th>24</th>\n",
       "      <td>\\n\\n                                Fresh Span...</td>\n",
       "      <td>\\n\\n£0.50 \\n</td>\n",
       "    </tr>\n",
       "    <tr>\n",
       "      <th>25</th>\n",
       "      <td>\\n\\n                                Fresh Spin...</td>\n",
       "      <td>\\n\\nAs low as:\\n£9.99 \\n</td>\n",
       "    </tr>\n",
       "    <tr>\n",
       "      <th>26</th>\n",
       "      <td>\\n\\n                                Fresh Spin...</td>\n",
       "      <td>\\n\\n£0.59 \\n</td>\n",
       "    </tr>\n",
       "    <tr>\n",
       "      <th>27</th>\n",
       "      <td>\\n\\n                                Fresh Spri...</td>\n",
       "      <td>\\n\\n£0.59 \\n</td>\n",
       "    </tr>\n",
       "    <tr>\n",
       "      <th>28</th>\n",
       "      <td>\\n\\n                                Fresh Suga...</td>\n",
       "      <td>\\n\\n£1.99 \\n</td>\n",
       "    </tr>\n",
       "    <tr>\n",
       "      <th>29</th>\n",
       "      <td>\\n\\n                                Fresh Swee...</td>\n",
       "      <td>\\n\\nAs low as:\\n£21.99 \\n</td>\n",
       "    </tr>\n",
       "    <tr>\n",
       "      <th>30</th>\n",
       "      <td>\\n\\n                                Fresh Ugu ...</td>\n",
       "      <td>\\n\\n£1.50 \\n</td>\n",
       "    </tr>\n",
       "    <tr>\n",
       "      <th>31</th>\n",
       "      <td>\\n\\n                                Fresh Utaz...</td>\n",
       "      <td>\\n\\n£1.50 \\n</td>\n",
       "    </tr>\n",
       "    <tr>\n",
       "      <th>32</th>\n",
       "      <td>\\n\\n                                Fresh Uziz...</td>\n",
       "      <td>\\n\\n£1.50 \\n</td>\n",
       "    </tr>\n",
       "    <tr>\n",
       "      <th>33</th>\n",
       "      <td>\\n\\n                                Fresh Wate...</td>\n",
       "      <td>\\n\\n£5.99 \\n</td>\n",
       "    </tr>\n",
       "    <tr>\n",
       "      <th>34</th>\n",
       "      <td>\\n\\n                                Fresh Whit...</td>\n",
       "      <td>\\n\\n£3.00 \\n</td>\n",
       "    </tr>\n",
       "    <tr>\n",
       "      <th>35</th>\n",
       "      <td>\\n\\n                                Fresh Whit...</td>\n",
       "      <td>\\n\\nAs low as:\\n£24.99 \\n</td>\n",
       "    </tr>\n",
       "    <tr>\n",
       "      <th>36</th>\n",
       "      <td>\\n\\n                                Taj Tropic...</td>\n",
       "      <td>\\n\\n£2.99 \\n</td>\n",
       "    </tr>\n",
       "  </tbody>\n",
       "</table>\n",
       "</div>"
      ],
      "text/plain": [
       "                                                 Name  \\\n",
       "0   \\n\\n                                Cassava Pe...   \n",
       "1   \\n\\n                                Fresh  Swe...   \n",
       "2   \\n\\n                                Fresh Bitt...   \n",
       "3   \\n\\n                                Fresh Ewed...   \n",
       "4   \\n\\n                                Fresh Gard...   \n",
       "5   \\n\\n                                Fresh Garl...   \n",
       "6   \\n\\n                                Fresh Gree...   \n",
       "7   \\n\\n                                Fresh Gree...   \n",
       "8   \\n\\n                                Fresh Gree...   \n",
       "9   \\n\\n                                Fresh Igbo...   \n",
       "10  \\n\\n                                Fresh Lemo...   \n",
       "11  \\n\\n                                Fresh Lime...   \n",
       "12  \\n\\n                                Fresh Moin...   \n",
       "13  \\n\\n                                Fresh Oha ...   \n",
       "14  \\n\\n                                Fresh Onio...   \n",
       "15  \\n\\n                                Fresh Puna...   \n",
       "16  \\n\\n                                Fresh Puna...   \n",
       "17  \\n\\n                                Fresh Red ...   \n",
       "18  \\n\\n                                Fresh Red ...   \n",
       "19  \\n\\n                                Fresh Ripe...   \n",
       "20  \\n\\n                                Fresh Ripe...   \n",
       "21  \\n\\n                                Fresh Ripe...   \n",
       "22  \\n\\n                                Fresh Scen...   \n",
       "23  \\n\\n                                Fresh Soko...   \n",
       "24  \\n\\n                                Fresh Span...   \n",
       "25  \\n\\n                                Fresh Spin...   \n",
       "26  \\n\\n                                Fresh Spin...   \n",
       "27  \\n\\n                                Fresh Spri...   \n",
       "28  \\n\\n                                Fresh Suga...   \n",
       "29  \\n\\n                                Fresh Swee...   \n",
       "30  \\n\\n                                Fresh Ugu ...   \n",
       "31  \\n\\n                                Fresh Utaz...   \n",
       "32  \\n\\n                                Fresh Uziz...   \n",
       "33  \\n\\n                                Fresh Wate...   \n",
       "34  \\n\\n                                Fresh Whit...   \n",
       "35  \\n\\n                                Fresh Whit...   \n",
       "36  \\n\\n                                Taj Tropic...   \n",
       "\n",
       "                        Price  \n",
       "0                \\n\\n£1.99 \\n  \n",
       "1                \\n\\n£0.79 \\n  \n",
       "2                \\n\\n£1.50 \\n  \n",
       "3                \\n\\n£1.50 \\n  \n",
       "4                \\n\\n£1.00 \\n  \n",
       "5                \\n\\n£1.00 \\n  \n",
       "6                \\n\\n£1.50 \\n  \n",
       "7                \\n\\n£0.50 \\n  \n",
       "8    \\n\\nAs low as:\\n£1.00 \\n  \n",
       "9                \\n\\n£1.50 \\n  \n",
       "10               \\n\\n£0.30 \\n  \n",
       "11               \\n\\n£0.30 \\n  \n",
       "12               \\n\\n£1.50 \\n  \n",
       "13               \\n\\n£1.50 \\n  \n",
       "14               \\n\\n£1.99 \\n  \n",
       "15               \\n\\n£4.00 \\n  \n",
       "16  \\n\\nAs low as:\\n£37.99 \\n  \n",
       "17               \\n\\n£2.49 \\n  \n",
       "18               \\n\\n£0.50 \\n  \n",
       "19               \\n\\n£0.50 \\n  \n",
       "20   \\n\\nAs low as:\\n£1.00 \\n  \n",
       "21  \\n\\nAs low as:\\n£26.00 \\n  \n",
       "22               \\n\\n£1.50 \\n  \n",
       "23               \\n\\n£1.50 \\n  \n",
       "24               \\n\\n£0.50 \\n  \n",
       "25   \\n\\nAs low as:\\n£9.99 \\n  \n",
       "26               \\n\\n£0.59 \\n  \n",
       "27               \\n\\n£0.59 \\n  \n",
       "28               \\n\\n£1.99 \\n  \n",
       "29  \\n\\nAs low as:\\n£21.99 \\n  \n",
       "30               \\n\\n£1.50 \\n  \n",
       "31               \\n\\n£1.50 \\n  \n",
       "32               \\n\\n£1.50 \\n  \n",
       "33               \\n\\n£5.99 \\n  \n",
       "34               \\n\\n£3.00 \\n  \n",
       "35  \\n\\nAs low as:\\n£24.99 \\n  \n",
       "36               \\n\\n£2.99 \\n  "
      ]
     },
     "execution_count": 19,
     "metadata": {},
     "output_type": "execute_result"
    }
   ],
   "source": [
    "product_overview"
   ]
  },
  {
   "cell_type": "code",
   "execution_count": null,
   "id": "627aa086",
   "metadata": {},
   "outputs": [],
   "source": []
  }
 ],
 "metadata": {
  "kernelspec": {
   "display_name": "Python 3",
   "language": "python",
   "name": "python3"
  },
  "language_info": {
   "codemirror_mode": {
    "name": "ipython",
    "version": 3
   },
   "file_extension": ".py",
   "mimetype": "text/x-python",
   "name": "python",
   "nbconvert_exporter": "python",
   "pygments_lexer": "ipython3",
   "version": "3.8.8"
  }
 },
 "nbformat": 4,
 "nbformat_minor": 5
}
