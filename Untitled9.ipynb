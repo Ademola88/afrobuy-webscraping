{
 "cells": [
  {
   "cell_type": "code",
   "execution_count": 1,
   "id": "2a69b017",
   "metadata": {},
   "outputs": [],
   "source": [
    "from bs4 import BeautifulSoup\n",
    "import requests\n",
    "import pandas as pd\n",
    "import urllib.parse"
   ]
  },
  {
   "cell_type": "code",
   "execution_count": 2,
   "id": "f02e1ea7",
   "metadata": {},
   "outputs": [],
   "source": [
    "website = 'https://www.adesfoods.co.uk/ades/groceries/flours.html'"
   ]
  },
  {
   "cell_type": "code",
   "execution_count": 3,
   "id": "d9e14a2b",
   "metadata": {},
   "outputs": [],
   "source": [
    "response = requests.get(website)"
   ]
  },
  {
   "cell_type": "code",
   "execution_count": 4,
   "id": "57f8dcb2",
   "metadata": {},
   "outputs": [
    {
     "data": {
      "text/plain": [
       "200"
      ]
     },
     "execution_count": 4,
     "metadata": {},
     "output_type": "execute_result"
    }
   ],
   "source": [
    "response.status_code"
   ]
  },
  {
   "cell_type": "code",
   "execution_count": 5,
   "id": "1f0f4ac6",
   "metadata": {},
   "outputs": [],
   "source": [
    "soup = BeautifulSoup(response.content,'html.parser')"
   ]
  },
  {
   "cell_type": "code",
   "execution_count": 6,
   "id": "8dd77c9c",
   "metadata": {},
   "outputs": [],
   "source": [
    "results = soup.find_all('div', {'class':'wrapper-hover'})"
   ]
  },
  {
   "cell_type": "code",
   "execution_count": 7,
   "id": "4767769f",
   "metadata": {},
   "outputs": [
    {
     "data": {
      "text/plain": [
       "15"
      ]
     },
     "execution_count": 7,
     "metadata": {},
     "output_type": "execute_result"
    }
   ],
   "source": [
    "len(results)"
   ]
  },
  {
   "cell_type": "code",
   "execution_count": 8,
   "id": "ee6c559a",
   "metadata": {},
   "outputs": [
    {
     "data": {
      "text/plain": [
       "<div class=\"wrapper-hover\">\n",
       "<div class=\"product-image-container\">\n",
       "<a class=\"product-image\" href=\"https://www.adesfoods.co.uk/ades/groceries/flours/mc-dougalls-self-raising-flour-1-1kg.html\" itemprop=\"url\" title=\" McDougall's Self raising Flour 1.1kg\">\n",
       "<img alt=\" McDougall's Self raising Flour 1.1kg\" class=\"lazy\" data-src=\"https://www.adesfoods.co.uk/media/catalog/product/cache/4/small_image/210x/9df78eab33525d08d6e5fb8d27136e95/m/c/mcdougall_s-self-raising-flour-1.1kg.jpg\" id=\"product-collection-image-6047\" src=\"https://www.adesfoods.co.uk/skin/frontend/base/default/images/mgt_lazy_image_loader/loader.gif\" width=\"210\"/>\n",
       "</a>\n",
       "</div>\n",
       "<div class=\"product-info\">\n",
       "<h2 class=\"product-name\">\n",
       "<a href=\"https://www.adesfoods.co.uk/ades/groceries/flours/mc-dougalls-self-raising-flour-1-1kg.html\" itemprop=\"name\" title=\" McDougall's Self raising Flour 1.1kg\">\n",
       "                                 McDougall's Self raising Flour 1.1kg\n",
       "                            </a>\n",
       "</h2>\n",
       "<div class=\"desc_grid\" itemprop=\"description\">McDougall's Self-raising Flour 1.1kg                        </div>\n",
       "<div class=\"price-box\">\n",
       "<span class=\"regular-price\" id=\"product-price-6047\">\n",
       "<span class=\"price\">£1.59</span> </span>\n",
       "</div>\n",
       "<div class=\"actions\">\n",
       "<p class=\"availability out-of-stock\"><span>Out of stock</span></p>\n",
       "<div class=\"clearfix\"></div>\n",
       "<ul class=\"add-to-links\">\n",
       "<li><a class=\"link-wishlist\" href=\"https://www.adesfoods.co.uk/ades/wishlist/index/add/product/6047/form_key/43zdHmTq501tHDVo/\">Add to Wishlist</a></li>\n",
       "</ul>\n",
       "</div>\n",
       "</div>\n",
       "<div class=\"label-product\">\n",
       "</div>\n",
       "</div>"
      ]
     },
     "execution_count": 8,
     "metadata": {},
     "output_type": "execute_result"
    }
   ],
   "source": [
    "results[0]"
   ]
  },
  {
   "cell_type": "code",
   "execution_count": 9,
   "id": "6cf695aa",
   "metadata": {},
   "outputs": [
    {
     "data": {
      "text/plain": [
       "\"\\n\\n                                 McDougall's Self raising Flour 1.1kg\\n                            \\n\""
      ]
     },
     "execution_count": 9,
     "metadata": {},
     "output_type": "execute_result"
    }
   ],
   "source": [
    "results[0].find('h2', {'class': 'product-name'}).get_text()"
   ]
  },
  {
   "cell_type": "code",
   "execution_count": 10,
   "id": "65a58005",
   "metadata": {},
   "outputs": [
    {
     "data": {
      "text/plain": [
       "'\\n\\n£1.59 \\n'"
      ]
     },
     "execution_count": 10,
     "metadata": {},
     "output_type": "execute_result"
    }
   ],
   "source": [
    "results[0].find('div', {'class': 'price-box'}).get_text()"
   ]
  },
  {
   "cell_type": "code",
   "execution_count": 11,
   "id": "27398f10",
   "metadata": {},
   "outputs": [],
   "source": [
    "product_name_class = results[0].find('h2', {'class': 'product-name'})\n",
    "relative_url = product_name_class.find('a').get('href')"
   ]
  },
  {
   "cell_type": "code",
   "execution_count": 12,
   "id": "9d986224",
   "metadata": {},
   "outputs": [],
   "source": [
    "root_url = 'https://www.adesfoods.co.uk/'"
   ]
  },
  {
   "cell_type": "code",
   "execution_count": 13,
   "id": "9b310c89",
   "metadata": {},
   "outputs": [
    {
     "name": "stdout",
     "output_type": "stream",
     "text": [
      "https://www.adesfoods.co.uk/https://www.adesfoods.co.uk/ades/groceries/flours/mc-dougalls-self-raising-flour-1-1kg.html\n"
     ]
    }
   ],
   "source": [
    "url_combine = root_url + relative_url\n",
    "print(url_combine)"
   ]
  },
  {
   "cell_type": "code",
   "execution_count": 14,
   "id": "4902bc18",
   "metadata": {},
   "outputs": [],
   "source": [
    "product_name = []\n",
    "product_price = []\n",
    "relative_url = []\n",
    "\n",
    "for i in range(1,5):\n",
    "    website = 'https://www.adesfoods.co.uk/ades/groceries/flours.html?p=' + str(i)\n",
    "    \n",
    "    #request\n",
    "    response = requests.get(website)\n",
    "    \n",
    "    # soup object\n",
    "    soup = BeautifulSoup(response.content,'html.parser')\n",
    "    \n",
    "    # results\n",
    "    results = soup.find_all('div', {'class':'wrapper-hover'})\n",
    "    \n",
    "    #loop through results\n",
    "    for result in results:\n",
    "         #name\n",
    "        try:\n",
    "            product_name.append(result.find('h2', {'class': 'product-name'}).get_text())\n",
    "        except:\n",
    "            product_name.append('n/a')\n",
    "\n",
    "         #price\n",
    "        try:\n",
    "            product_price.append(result.find('div', {'class': 'price-box'}).get_text())\n",
    "        except:\n",
    "            product_price.append('n/a')\n",
    "\n",
    "         #relative url\n",
    "        try:\n",
    "            relative_url.append(result.find('a').get('href'))\n",
    "        except:\n",
    "            relative_url.append('n/a')\n"
   ]
  },
  {
   "cell_type": "code",
   "execution_count": 15,
   "id": "f2a0390a",
   "metadata": {},
   "outputs": [],
   "source": [
    "url_combined = []\n",
    "\n",
    "for link in relative_url:\n",
    "    url_combined.append(urllib.parse.urljoin(root_url,link))"
   ]
  },
  {
   "cell_type": "code",
   "execution_count": null,
   "id": "d18c11ca",
   "metadata": {},
   "outputs": [],
   "source": []
  }
 ],
 "metadata": {
  "kernelspec": {
   "display_name": "Python 3",
   "language": "python",
   "name": "python3"
  },
  "language_info": {
   "codemirror_mode": {
    "name": "ipython",
    "version": 3
   },
   "file_extension": ".py",
   "mimetype": "text/x-python",
   "name": "python",
   "nbconvert_exporter": "python",
   "pygments_lexer": "ipython3",
   "version": "3.8.8"
  }
 },
 "nbformat": 4,
 "nbformat_minor": 5
}
