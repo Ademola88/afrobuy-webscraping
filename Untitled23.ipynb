{
 "cells": [
  {
   "cell_type": "code",
   "execution_count": 1,
   "id": "297e865e",
   "metadata": {},
   "outputs": [],
   "source": [
    "from bs4 import BeautifulSoup\n",
    "import requests\n",
    "import pandas as pd\n",
    "import urllib.parse"
   ]
  },
  {
   "cell_type": "code",
   "execution_count": 2,
   "id": "efc51243",
   "metadata": {},
   "outputs": [],
   "source": [
    "website = 'https://www.adesfoods.co.uk/ades/fish-meat-poutry/chilled-seafood.html'"
   ]
  },
  {
   "cell_type": "code",
   "execution_count": 3,
   "id": "0780f254",
   "metadata": {},
   "outputs": [],
   "source": [
    "response = requests.get(website)"
   ]
  },
  {
   "cell_type": "code",
   "execution_count": 4,
   "id": "e52ec68f",
   "metadata": {},
   "outputs": [
    {
     "data": {
      "text/plain": [
       "200"
      ]
     },
     "execution_count": 4,
     "metadata": {},
     "output_type": "execute_result"
    }
   ],
   "source": [
    "response.status_code"
   ]
  },
  {
   "cell_type": "code",
   "execution_count": 5,
   "id": "d41aa6c7",
   "metadata": {},
   "outputs": [],
   "source": [
    "soup = BeautifulSoup(response.content,'html.parser')"
   ]
  },
  {
   "cell_type": "code",
   "execution_count": 6,
   "id": "bd77667e",
   "metadata": {},
   "outputs": [],
   "source": [
    "results = soup.find_all('div', {'class':'wrapper-hover'})"
   ]
  },
  {
   "cell_type": "code",
   "execution_count": 7,
   "id": "d8148583",
   "metadata": {},
   "outputs": [
    {
     "data": {
      "text/plain": [
       "15"
      ]
     },
     "execution_count": 7,
     "metadata": {},
     "output_type": "execute_result"
    }
   ],
   "source": [
    "len(results)"
   ]
  },
  {
   "cell_type": "code",
   "execution_count": 8,
   "id": "3ab5eaf7",
   "metadata": {},
   "outputs": [
    {
     "data": {
      "text/plain": [
       "<div class=\"wrapper-hover\">\n",
       "<div class=\"product-image-container\">\n",
       "<a class=\"product-image\" href=\"https://www.adesfoods.co.uk/ades/fish-meat-poutry/chilled-seafood/delish-shrimp-stock-600g.html\" itemprop=\"url\" title=\"Delish Shrimp Stock 600g\">\n",
       "<img alt=\"Delish Shrimp Stock 600g\" class=\"lazy\" data-src=\"https://www.adesfoods.co.uk/media/catalog/product/cache/4/small_image/210x/9df78eab33525d08d6e5fb8d27136e95/placeholder/default/small_image_1_icon_1.jpg\" id=\"product-collection-image-4970\" src=\"https://www.adesfoods.co.uk/skin/frontend/base/default/images/mgt_lazy_image_loader/loader.gif\" width=\"210\"/>\n",
       "</a>\n",
       "</div>\n",
       "<div class=\"product-info\">\n",
       "<h2 class=\"product-name\">\n",
       "<a href=\"https://www.adesfoods.co.uk/ades/fish-meat-poutry/chilled-seafood/delish-shrimp-stock-600g.html\" itemprop=\"name\" title=\"Delish Shrimp Stock 600g\">\n",
       "                                Delish Shrimp Stock 600g\n",
       "                            </a>\n",
       "</h2>\n",
       "<div class=\"desc_grid\" itemprop=\"description\">Delish Shrimp Stock 600g                        </div>\n",
       "<div class=\"price-box\">\n",
       "<span class=\"regular-price\" id=\"product-price-4970\">\n",
       "<span class=\"price\">£1.59</span> </span>\n",
       "</div>\n",
       "<div class=\"actions\">\n",
       "<p class=\"availability out-of-stock\"><span>Out of stock</span></p>\n",
       "<div class=\"clearfix\"></div>\n",
       "<ul class=\"add-to-links\">\n",
       "<li><a class=\"link-wishlist\" href=\"https://www.adesfoods.co.uk/ades/wishlist/index/add/product/4970/form_key/FAWMW13acuN89O3C/\">Add to Wishlist</a></li>\n",
       "</ul>\n",
       "</div>\n",
       "</div>\n",
       "<div class=\"label-product\">\n",
       "</div>\n",
       "</div>"
      ]
     },
     "execution_count": 8,
     "metadata": {},
     "output_type": "execute_result"
    }
   ],
   "source": [
    "results[0]"
   ]
  },
  {
   "cell_type": "code",
   "execution_count": 9,
   "id": "b93bdfcb",
   "metadata": {},
   "outputs": [
    {
     "data": {
      "text/plain": [
       "'\\n\\n                                Delish Shrimp Stock 600g\\n                            \\n'"
      ]
     },
     "execution_count": 9,
     "metadata": {},
     "output_type": "execute_result"
    }
   ],
   "source": [
    "results[0].find('h2', {'class': 'product-name'}).get_text()"
   ]
  },
  {
   "cell_type": "code",
   "execution_count": 10,
   "id": "777de999",
   "metadata": {},
   "outputs": [
    {
     "data": {
      "text/plain": [
       "'\\n\\n£1.59 \\n'"
      ]
     },
     "execution_count": 10,
     "metadata": {},
     "output_type": "execute_result"
    }
   ],
   "source": [
    "results[0].find('div', {'class': 'price-box'}).get_text()"
   ]
  },
  {
   "cell_type": "code",
   "execution_count": 11,
   "id": "ee6c8464",
   "metadata": {},
   "outputs": [],
   "source": [
    "product_name_class = results[0].find('h2', {'class': 'product-name'})\n",
    "relative_url = product_name_class.find('a').get('href')"
   ]
  },
  {
   "cell_type": "code",
   "execution_count": 12,
   "id": "61c6ede2",
   "metadata": {},
   "outputs": [],
   "source": [
    "root_url = 'https://www.adesfoods.co.uk/'"
   ]
  },
  {
   "cell_type": "code",
   "execution_count": 13,
   "id": "8df78fb6",
   "metadata": {},
   "outputs": [
    {
     "name": "stdout",
     "output_type": "stream",
     "text": [
      "https://www.adesfoods.co.uk/https://www.adesfoods.co.uk/ades/fish-meat-poutry/chilled-seafood/delish-shrimp-stock-600g.html\n"
     ]
    }
   ],
   "source": [
    "url_combine = root_url + relative_url\n",
    "print(url_combine)"
   ]
  },
  {
   "cell_type": "code",
   "execution_count": 14,
   "id": "988c5c93",
   "metadata": {},
   "outputs": [],
   "source": [
    "product_name = []\n",
    "product_price = []\n",
    "relative_url = []\n",
    "\n",
    "for i in range(1,2):\n",
    "    website = 'https://www.adesfoods.co.uk/ades/fish-meat-poutry/chilled-seafood.html?p=' + str(i)\n",
    "    \n",
    "    #request\n",
    "    response = requests.get(website)\n",
    "    \n",
    "    # soup object\n",
    "    soup = BeautifulSoup(response.content,'html.parser')\n",
    "    \n",
    "    # results\n",
    "    results = soup.find_all('div', {'class':'wrapper-hover'})\n",
    "    \n",
    "    #loop through results\n",
    "    for result in results:\n",
    "         #name\n",
    "        try:\n",
    "            product_name.append(result.find('h2', {'class': 'product-name'}).get_text())\n",
    "        except:\n",
    "            product_name.append('n/a')\n",
    "\n",
    "         #price\n",
    "        try:\n",
    "            product_price.append(result.find('div', {'class': 'price-box'}).get_text())\n",
    "        except:\n",
    "            product_price.append('n/a')\n",
    "\n",
    "         #relative url\n",
    "        try:\n",
    "            relative_url.append(result.find('a').get('href'))\n",
    "        except:\n",
    "            relative_url.append('n/a')\n"
   ]
  },
  {
   "cell_type": "code",
   "execution_count": 15,
   "id": "823268ba",
   "metadata": {},
   "outputs": [],
   "source": [
    "url_combined = []\n",
    "\n",
    "for link in relative_url:\n",
    "    url_combined.append(urllib.parse.urljoin(root_url,link))"
   ]
  },
  {
   "cell_type": "code",
   "execution_count": 16,
   "id": "c629812a",
   "metadata": {},
   "outputs": [],
   "source": [
    "product_overview = pd.DataFrame({'Name': product_name, 'Price': product_price })"
   ]
  },
  {
   "cell_type": "code",
   "execution_count": 17,
   "id": "133379e8",
   "metadata": {},
   "outputs": [
    {
     "data": {
      "text/html": [
       "<div>\n",
       "<style scoped>\n",
       "    .dataframe tbody tr th:only-of-type {\n",
       "        vertical-align: middle;\n",
       "    }\n",
       "\n",
       "    .dataframe tbody tr th {\n",
       "        vertical-align: top;\n",
       "    }\n",
       "\n",
       "    .dataframe thead th {\n",
       "        text-align: right;\n",
       "    }\n",
       "</style>\n",
       "<table border=\"1\" class=\"dataframe\">\n",
       "  <thead>\n",
       "    <tr style=\"text-align: right;\">\n",
       "      <th></th>\n",
       "      <th>Name</th>\n",
       "      <th>Price</th>\n",
       "    </tr>\n",
       "  </thead>\n",
       "  <tbody>\n",
       "    <tr>\n",
       "      <th>0</th>\n",
       "      <td>\\n\\n                                Delish Shr...</td>\n",
       "      <td>\\n\\n£1.59 \\n</td>\n",
       "    </tr>\n",
       "    <tr>\n",
       "      <th>1</th>\n",
       "      <td>\\n\\n                                Frozen Ade...</td>\n",
       "      <td>\\n\\n£3.49 \\n</td>\n",
       "    </tr>\n",
       "    <tr>\n",
       "      <th>2</th>\n",
       "      <td>\\n\\n                                Frozen Coo...</td>\n",
       "      <td>\\n\\n£4.99 \\n</td>\n",
       "    </tr>\n",
       "    <tr>\n",
       "      <th>3</th>\n",
       "      <td>\\n\\n                                Frozen Fre...</td>\n",
       "      <td>\\n\\n£2.99 \\n</td>\n",
       "    </tr>\n",
       "    <tr>\n",
       "      <th>4</th>\n",
       "      <td>\\n\\n                                Frozen Hal...</td>\n",
       "      <td>\\n\\n£4.99 \\n</td>\n",
       "    </tr>\n",
       "    <tr>\n",
       "      <th>5</th>\n",
       "      <td>\\n\\n                                Frozen Nou...</td>\n",
       "      <td>\\n\\n£1.99 \\n</td>\n",
       "    </tr>\n",
       "    <tr>\n",
       "      <th>6</th>\n",
       "      <td>\\n\\n                                Frozen Pee...</td>\n",
       "      <td>\\n\\n£8.99 \\n</td>\n",
       "    </tr>\n",
       "    <tr>\n",
       "      <th>7</th>\n",
       "      <td>\\n\\n                                Frozen Pra...</td>\n",
       "      <td>\\n\\n£4.49 \\n</td>\n",
       "    </tr>\n",
       "    <tr>\n",
       "      <th>8</th>\n",
       "      <td>\\n\\n                                Frozen Sea...</td>\n",
       "      <td>\\n\\n£4.99 \\n</td>\n",
       "    </tr>\n",
       "    <tr>\n",
       "      <th>9</th>\n",
       "      <td>\\n\\n                                Frozen Who...</td>\n",
       "      <td>\\n\\n£4.99 \\n</td>\n",
       "    </tr>\n",
       "    <tr>\n",
       "      <th>10</th>\n",
       "      <td>\\n\\n                                Mussels Co...</td>\n",
       "      <td>\\n\\n£2.99 \\n</td>\n",
       "    </tr>\n",
       "    <tr>\n",
       "      <th>11</th>\n",
       "      <td>\\n\\n                                Ocean Clas...</td>\n",
       "      <td>\\n\\n£5.49 \\n</td>\n",
       "    </tr>\n",
       "    <tr>\n",
       "      <th>12</th>\n",
       "      <td>\\n\\n                                Ocean Clas...</td>\n",
       "      <td>\\n\\n£4.99 \\n</td>\n",
       "    </tr>\n",
       "    <tr>\n",
       "      <th>13</th>\n",
       "      <td>\\n\\n                                Ocean Clas...</td>\n",
       "      <td>\\n\\n£4.99 \\n</td>\n",
       "    </tr>\n",
       "    <tr>\n",
       "      <th>14</th>\n",
       "      <td>\\n\\n                                Octopus Wh...</td>\n",
       "      <td>\\n\\n£4.99 \\n</td>\n",
       "    </tr>\n",
       "  </tbody>\n",
       "</table>\n",
       "</div>"
      ],
      "text/plain": [
       "                                                 Name         Price\n",
       "0   \\n\\n                                Delish Shr...  \\n\\n£1.59 \\n\n",
       "1   \\n\\n                                Frozen Ade...  \\n\\n£3.49 \\n\n",
       "2   \\n\\n                                Frozen Coo...  \\n\\n£4.99 \\n\n",
       "3   \\n\\n                                Frozen Fre...  \\n\\n£2.99 \\n\n",
       "4   \\n\\n                                Frozen Hal...  \\n\\n£4.99 \\n\n",
       "5   \\n\\n                                Frozen Nou...  \\n\\n£1.99 \\n\n",
       "6   \\n\\n                                Frozen Pee...  \\n\\n£8.99 \\n\n",
       "7   \\n\\n                                Frozen Pra...  \\n\\n£4.49 \\n\n",
       "8   \\n\\n                                Frozen Sea...  \\n\\n£4.99 \\n\n",
       "9   \\n\\n                                Frozen Who...  \\n\\n£4.99 \\n\n",
       "10  \\n\\n                                Mussels Co...  \\n\\n£2.99 \\n\n",
       "11  \\n\\n                                Ocean Clas...  \\n\\n£5.49 \\n\n",
       "12  \\n\\n                                Ocean Clas...  \\n\\n£4.99 \\n\n",
       "13  \\n\\n                                Ocean Clas...  \\n\\n£4.99 \\n\n",
       "14  \\n\\n                                Octopus Wh...  \\n\\n£4.99 \\n"
      ]
     },
     "execution_count": 17,
     "metadata": {},
     "output_type": "execute_result"
    }
   ],
   "source": [
    "product_overview"
   ]
  },
  {
   "cell_type": "code",
   "execution_count": 18,
   "id": "02101836",
   "metadata": {},
   "outputs": [],
   "source": [
    "product_overview.to_excel('results_chilledseafood_page.xlsx', index=False)"
   ]
  },
  {
   "cell_type": "code",
   "execution_count": null,
   "id": "a8e085d3",
   "metadata": {},
   "outputs": [],
   "source": []
  }
 ],
 "metadata": {
  "kernelspec": {
   "display_name": "Python 3",
   "language": "python",
   "name": "python3"
  },
  "language_info": {
   "codemirror_mode": {
    "name": "ipython",
    "version": 3
   },
   "file_extension": ".py",
   "mimetype": "text/x-python",
   "name": "python",
   "nbconvert_exporter": "python",
   "pygments_lexer": "ipython3",
   "version": "3.8.8"
  }
 },
 "nbformat": 4,
 "nbformat_minor": 5
}
