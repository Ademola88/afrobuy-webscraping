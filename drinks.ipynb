{
 "cells": [
  {
   "cell_type": "code",
   "execution_count": 1,
   "id": "3de6efad",
   "metadata": {},
   "outputs": [],
   "source": [
    "from bs4 import BeautifulSoup\n",
    "import requests\n",
    "import pandas as pd\n",
    "import urllib.parse"
   ]
  },
  {
   "cell_type": "code",
   "execution_count": 2,
   "id": "02e60349",
   "metadata": {},
   "outputs": [],
   "source": [
    "website = 'https://www.adesfoods.co.uk/ades/groceries/drinks.html'"
   ]
  },
  {
   "cell_type": "code",
   "execution_count": 3,
   "id": "29b816c0",
   "metadata": {},
   "outputs": [],
   "source": [
    "response = requests.get(website)"
   ]
  },
  {
   "cell_type": "code",
   "execution_count": 4,
   "id": "ef00f83a",
   "metadata": {},
   "outputs": [
    {
     "data": {
      "text/plain": [
       "200"
      ]
     },
     "execution_count": 4,
     "metadata": {},
     "output_type": "execute_result"
    }
   ],
   "source": [
    "response.status_code"
   ]
  },
  {
   "cell_type": "code",
   "execution_count": 5,
   "id": "0455ccc3",
   "metadata": {},
   "outputs": [],
   "source": [
    "soup = BeautifulSoup(response.content,'html.parser')"
   ]
  },
  {
   "cell_type": "code",
   "execution_count": 6,
   "id": "9cdb93cb",
   "metadata": {},
   "outputs": [],
   "source": [
    "results = soup.find_all('div', {'class':'wrapper-hover'})"
   ]
  },
  {
   "cell_type": "code",
   "execution_count": 7,
   "id": "90e3c710",
   "metadata": {},
   "outputs": [
    {
     "data": {
      "text/plain": [
       "15"
      ]
     },
     "execution_count": 7,
     "metadata": {},
     "output_type": "execute_result"
    }
   ],
   "source": [
    "len(results)"
   ]
  },
  {
   "cell_type": "code",
   "execution_count": 8,
   "id": "8406966d",
   "metadata": {},
   "outputs": [
    {
     "data": {
      "text/plain": [
       "<div class=\"wrapper-hover\">\n",
       "<div class=\"product-image-container\">\n",
       "<a class=\"product-image\" href=\"https://www.adesfoods.co.uk/ades/groceries/drinks/19-crimes-the-banished-red-wine-75cl.html\" itemprop=\"url\" title=\" 19 Crimes Red Wine 75cl\">\n",
       "<img alt=\" 19 Crimes Red Wine 75cl\" class=\"lazy\" data-src=\"https://www.adesfoods.co.uk/media/catalog/product/cache/4/small_image/210x/9df78eab33525d08d6e5fb8d27136e95/1/9/19-crimes-red-wine-75cl.png\" id=\"product-collection-image-8011\" src=\"https://www.adesfoods.co.uk/skin/frontend/base/default/images/mgt_lazy_image_loader/loader.gif\" width=\"210\"/>\n",
       "</a>\n",
       "</div>\n",
       "<div class=\"product-info\">\n",
       "<h2 class=\"product-name\">\n",
       "<a href=\"https://www.adesfoods.co.uk/ades/groceries/drinks/19-crimes-the-banished-red-wine-75cl.html\" itemprop=\"name\" title=\" 19 Crimes Red Wine 75cl\">\n",
       "                                 19 Crimes Red Wine 75cl\n",
       "                            </a>\n",
       "</h2>\n",
       "<div class=\"desc_grid\" itemprop=\"description\"> 19 Crimes The Banished Red Wine 75cl                        </div>\n",
       "<div class=\"price-box\">\n",
       "<span class=\"regular-price\" id=\"product-price-8011\">\n",
       "<span class=\"price\">£8.49</span> </span>\n",
       "</div>\n",
       "<div class=\"actions\">\n",
       "<form action=\"https://www.adesfoods.co.uk/ades/checkout/icart/add/uenc/aHR0cHM6Ly93d3cuYWRlc2Zvb2RzLmNvLnVrL2FkZXMvZ3JvY2VyaWVzL2RyaW5rcy5odG1s/product/8011/\" id=\"product_addtocart_form_8011\" method=\"post\">\n",
       "<div id=\"getdataform8011\">\n",
       "</div>\n",
       "<div class=\"qty-updater\"> <a class=\"left\" href=\"javascript:void(0)\" onclick=\"decrementQty(this);\"><i aria-hidden=\"true\" class=\"fa fa-minus\"></i></a>\n",
       "<input class=\"input-text qty\" id=\"8011\" maxlength=\"12\" name=\"qty\" pattern=\"\\d*\" title=\"Qty\" type=\"text\" value=\"1\"/>\n",
       "<a class=\"right\" href=\"javascript:void(0);\" onclick=\"incrementQty(this);\"><i aria-hidden=\"true\" class=\"fa fa-plus\"></i></a></div>\n",
       "<button class=\"button btn-cart del-8011\" onclick=\"setLocationAjax('https://www.adesfoods.co.uk/ades/checkout/icart/add/uenc/aHR0cHM6Ly93d3cuYWRlc2Zvb2RzLmNvLnVrL2FkZXMvZ3JvY2VyaWVzL2RyaW5rcy5odG1s/product/8011/','8011')\" title=\"Add to Cart\" type=\"button\"><span><span>Add</span></span></button>\n",
       "<span id=\"ajax_loader8011\" style=\"display:none\"><img src=\"https://www.adesfoods.co.uk/skin/frontend/adesfoods/default/images/opc-ajax-loader.gif\"/></span>\n",
       "<span class=\"basket-btn\" id=\"inBasket_show_8011\" style=\"display:none;\"><i aria-hidden=\"true\" class=\"fa fa-check\"></i><span id=\"inBasketQty8011\">0</span> in basket</span>\n",
       "</form>\n",
       "<script type=\"text/javascript\">\n",
       "\n",
       "\n",
       "\t\t\t\t\t\t\t\t\t\t var productAddToCartForm_8011 = new VarienForm('product_addtocart_form_8011');\n",
       "\t\t\t\t\t\t\t\t\t\t productAddToCartForm_8011.submit = function(){\n",
       "\n",
       "\t\t\t\t\t\t\t\t\t\t if (this.validator.validate()) {\n",
       "\t\t\t\t\t\t\t\t\t\tvar url = jQuery('#product_addtocart_form_8011').attr( 'action' );\n",
       "\t\t\t\t\t\t\t\t\t\t//alert(url);return false;\n",
       "\t\t\t\t\t\t\t\t\t\t //ajaxcart.ajaxCartSubmit(this);\n",
       "\t\t\t\t\t\t\t\t\t\t\t\t// this.form.submit();\n",
       "\t\t\t\t\t\t\t\t\t\t\t\tjQuery.ajax( {\n",
       "\t\t\t\t\t\t\t\t\t\t\t\turl : url,\n",
       "\t\t\t\t\t\t\t\t\t\t\t\tasync:false,\n",
       "\t\t\t\t\t\t\t\t\t\t\t\tmethod:'post',\n",
       "\t\t\t\t\t\t\t\t\t\t\t\tdata: jQuery(\"#product_addtocart_form_8011\").serialize(),\t\t\t\n",
       "\t\t\t\t\t\t\t\t\t\t\t\tsuccess : function(transport) {\n",
       "\t\t\t\t\t\t\t\t\t\t\t\t\tvar resp=new String(transport);   \n",
       "\t\t\t\t\t\t\t\t\t\t\t\t\tevaluate(resp);\n",
       "\t\t\t\t\t\t\t\t\t\t\t\t},\n",
       "\t\t\t\t\t\t\t\t\t\t\t\terror: function (textStatus, errorThrown) {   \n",
       "\t\t\t\t\t\t\t\t\t\t\t\t}\n",
       "\t\t\t\t\t\t\t\t\t\t\t\t});\n",
       "\t\t\t\t\t\t\t\t\t\t\t\t  jQuery('#product_addtocart_8011').modal('hide');\n",
       "\t\t\t\t\t\t\t\t\t\t\t\t  jQuery.post( \"https://www.adesfoods.co.uk/ades/checkout/icart/productcnt/\", { product: \"8011\" })\n",
       "\t\t\t\t\t\t\t\t\t\t\t\t.done(function( data ) {\n",
       "\t\t\t\t\t\t\t\t\t\t\t\t\tif(data!=0){\n",
       "\t\t\t\t\t\t\t\t\t\t\t\t\tjQuery('#inBasketQty8011').html(data);\n",
       "\t\t\t\t\t\t\t\t\t\t\t\t\tjQuery('#inBasket_show_8011').show(); \n",
       "\t\t\t\t\t\t\t\t\t\t\t\t\t}\n",
       "\t\t\t\t\t\t\t\t\t\t\t\t});\n",
       "\t\t\t\t\t\t\t\t\t\t\t }\n",
       "\t\t\t\t\t\t\t\t\t\t }.bind(productAddToCartForm_8011);\n",
       "\n",
       "\t\t\t\t\t\t\t\t\t</script>\n",
       "<div class=\"clearfix\"></div>\n",
       "<ul class=\"add-to-links\">\n",
       "<li><a class=\"link-wishlist\" href=\"https://www.adesfoods.co.uk/ades/wishlist/index/add/product/8011/form_key/AhP3BNZbbZeBlMdM/\">Add to Wishlist</a></li>\n",
       "</ul>\n",
       "</div>\n",
       "</div>\n",
       "<div class=\"label-product\">\n",
       "</div>\n",
       "</div>"
      ]
     },
     "execution_count": 8,
     "metadata": {},
     "output_type": "execute_result"
    }
   ],
   "source": [
    "results[0]"
   ]
  },
  {
   "cell_type": "code",
   "execution_count": 9,
   "id": "3312650b",
   "metadata": {},
   "outputs": [
    {
     "data": {
      "text/plain": [
       "'\\n\\n                                 19 Crimes Red Wine 75cl\\n                            \\n'"
      ]
     },
     "execution_count": 9,
     "metadata": {},
     "output_type": "execute_result"
    }
   ],
   "source": [
    "results[0].find('h2', {'class': 'product-name'}).get_text()"
   ]
  },
  {
   "cell_type": "code",
   "execution_count": 10,
   "id": "b2c8e603",
   "metadata": {},
   "outputs": [
    {
     "data": {
      "text/plain": [
       "'\\n\\n£8.49 \\n'"
      ]
     },
     "execution_count": 10,
     "metadata": {},
     "output_type": "execute_result"
    }
   ],
   "source": [
    "results[0].find('div', {'class': 'price-box'}).get_text()"
   ]
  },
  {
   "cell_type": "code",
   "execution_count": 11,
   "id": "58f0bd97",
   "metadata": {},
   "outputs": [],
   "source": [
    "product_name_class = results[0].find('h2', {'class': 'product-name'})\n",
    "relative_url = product_name_class.find('a').get('href')"
   ]
  },
  {
   "cell_type": "code",
   "execution_count": 12,
   "id": "675205fa",
   "metadata": {},
   "outputs": [],
   "source": [
    "root_url = 'https://www.adesfoods.co.uk/'"
   ]
  },
  {
   "cell_type": "code",
   "execution_count": 13,
   "id": "0bad1133",
   "metadata": {},
   "outputs": [
    {
     "name": "stdout",
     "output_type": "stream",
     "text": [
      "https://www.adesfoods.co.uk/https://www.adesfoods.co.uk/ades/groceries/drinks/19-crimes-the-banished-red-wine-75cl.html\n"
     ]
    }
   ],
   "source": [
    "url_combine = root_url + relative_url\n",
    "print(url_combine)"
   ]
  },
  {
   "cell_type": "code",
   "execution_count": 17,
   "id": "88622e96",
   "metadata": {},
   "outputs": [],
   "source": [
    "product_name = []\n",
    "product_price = []\n",
    "relative_url = []\n",
    "\n",
    "for i in range(1,15):\n",
    "    website = 'https://www.adesfoods.co.uk/ades/groceries/drinks.html?p=' + str(i)\n",
    "    \n",
    "    #request\n",
    "    response = requests.get(website)\n",
    "    \n",
    "    # soup object\n",
    "    soup = BeautifulSoup(response.content,'html.parser')\n",
    "    \n",
    "    # results\n",
    "    results = soup.find_all('div', {'class':'wrapper-hover'})\n",
    "    \n",
    "    #loop through results\n",
    "    for result in results:\n",
    "         #name\n",
    "        try:\n",
    "            product_name.append(result.find('h2', {'class': 'product-name'}).get_text())\n",
    "        except:\n",
    "            product_name.append('n/a')\n",
    "\n",
    "         #price\n",
    "        try:\n",
    "            product_price.append(result.find('div', {'class': 'price-box'}).get_text())\n",
    "        except:\n",
    "            product_price.append('n/a')\n",
    "\n",
    "         #relative url\n",
    "        try:\n",
    "            relative_url.append(result.find('a').get('href'))\n",
    "        except:\n",
    "            relative_url.append('n/a')\n"
   ]
  },
  {
   "cell_type": "code",
   "execution_count": 18,
   "id": "cb25ff6a",
   "metadata": {},
   "outputs": [],
   "source": [
    "url_combined = []\n",
    "\n",
    "for link in relative_url:\n",
    "    url_combined.append(urllib.parse.urljoin(root_url,link))"
   ]
  },
  {
   "cell_type": "code",
   "execution_count": 19,
   "id": "95cb3d90",
   "metadata": {},
   "outputs": [],
   "source": [
    "product_overview = pd.DataFrame({'Name': product_name, 'Price': product_price })"
   ]
  },
  {
   "cell_type": "code",
   "execution_count": 20,
   "id": "3b4023e4",
   "metadata": {},
   "outputs": [
    {
     "data": {
      "text/html": [
       "<div>\n",
       "<style scoped>\n",
       "    .dataframe tbody tr th:only-of-type {\n",
       "        vertical-align: middle;\n",
       "    }\n",
       "\n",
       "    .dataframe tbody tr th {\n",
       "        vertical-align: top;\n",
       "    }\n",
       "\n",
       "    .dataframe thead th {\n",
       "        text-align: right;\n",
       "    }\n",
       "</style>\n",
       "<table border=\"1\" class=\"dataframe\">\n",
       "  <thead>\n",
       "    <tr style=\"text-align: right;\">\n",
       "      <th></th>\n",
       "      <th>Name</th>\n",
       "      <th>Price</th>\n",
       "    </tr>\n",
       "  </thead>\n",
       "  <tbody>\n",
       "    <tr>\n",
       "      <th>0</th>\n",
       "      <td>\\n\\n                                 19 Crimes...</td>\n",
       "      <td>\\n\\n£8.49 \\n</td>\n",
       "    </tr>\n",
       "    <tr>\n",
       "      <th>1</th>\n",
       "      <td>\\n\\n                                33 Beer 12...</td>\n",
       "      <td>\\n\\nAs low as:\\n£24.99 \\n</td>\n",
       "    </tr>\n",
       "    <tr>\n",
       "      <th>2</th>\n",
       "      <td>\\n\\n                                33 Beer 60...</td>\n",
       "      <td>\\n\\n£1.99 \\n</td>\n",
       "    </tr>\n",
       "    <tr>\n",
       "      <th>3</th>\n",
       "      <td>\\n\\n                                7Up 24 X 3...</td>\n",
       "      <td>\\n\\nAs low as:\\n£7.99 \\n</td>\n",
       "    </tr>\n",
       "    <tr>\n",
       "      <th>4</th>\n",
       "      <td>\\n\\n                                7up can 33...</td>\n",
       "      <td>\\n\\n£0.59 \\n</td>\n",
       "    </tr>\n",
       "    <tr>\n",
       "      <th>...</th>\n",
       "      <td>...</td>\n",
       "      <td>...</td>\n",
       "    </tr>\n",
       "    <tr>\n",
       "      <th>200</th>\n",
       "      <td>\\n\\n                                Zobo Grape...</td>\n",
       "      <td>\\n\\n£1.49 \\n</td>\n",
       "    </tr>\n",
       "    <tr>\n",
       "      <th>201</th>\n",
       "      <td>\\n\\n                                Zobo Grape...</td>\n",
       "      <td>\\n\\n£3.49 \\n</td>\n",
       "    </tr>\n",
       "    <tr>\n",
       "      <th>202</th>\n",
       "      <td>\\n\\n                                Zobo Hibis...</td>\n",
       "      <td>\\n\\n£1.99 \\n</td>\n",
       "    </tr>\n",
       "    <tr>\n",
       "      <th>203</th>\n",
       "      <td>\\n\\n                                Zobo Hibis...</td>\n",
       "      <td>\\n\\n£1.99 \\n</td>\n",
       "    </tr>\n",
       "    <tr>\n",
       "      <th>204</th>\n",
       "      <td>\\n\\n                                Zobo Hibis...</td>\n",
       "      <td>\\n\\n£1.99 \\n</td>\n",
       "    </tr>\n",
       "  </tbody>\n",
       "</table>\n",
       "<p>205 rows × 2 columns</p>\n",
       "</div>"
      ],
      "text/plain": [
       "                                                  Name  \\\n",
       "0    \\n\\n                                 19 Crimes...   \n",
       "1    \\n\\n                                33 Beer 12...   \n",
       "2    \\n\\n                                33 Beer 60...   \n",
       "3    \\n\\n                                7Up 24 X 3...   \n",
       "4    \\n\\n                                7up can 33...   \n",
       "..                                                 ...   \n",
       "200  \\n\\n                                Zobo Grape...   \n",
       "201  \\n\\n                                Zobo Grape...   \n",
       "202  \\n\\n                                Zobo Hibis...   \n",
       "203  \\n\\n                                Zobo Hibis...   \n",
       "204  \\n\\n                                Zobo Hibis...   \n",
       "\n",
       "                         Price  \n",
       "0                 \\n\\n£8.49 \\n  \n",
       "1    \\n\\nAs low as:\\n£24.99 \\n  \n",
       "2                 \\n\\n£1.99 \\n  \n",
       "3     \\n\\nAs low as:\\n£7.99 \\n  \n",
       "4                 \\n\\n£0.59 \\n  \n",
       "..                         ...  \n",
       "200               \\n\\n£1.49 \\n  \n",
       "201               \\n\\n£3.49 \\n  \n",
       "202               \\n\\n£1.99 \\n  \n",
       "203               \\n\\n£1.99 \\n  \n",
       "204               \\n\\n£1.99 \\n  \n",
       "\n",
       "[205 rows x 2 columns]"
      ]
     },
     "execution_count": 20,
     "metadata": {},
     "output_type": "execute_result"
    }
   ],
   "source": [
    "product_overview"
   ]
  },
  {
   "cell_type": "code",
   "execution_count": 21,
   "id": "92e71b3b",
   "metadata": {},
   "outputs": [],
   "source": [
    "product_overview.to_excel('results_drinks_page.xlsx', index=False)"
   ]
  },
  {
   "cell_type": "code",
   "execution_count": null,
   "id": "1e0803a2",
   "metadata": {},
   "outputs": [],
   "source": []
  }
 ],
 "metadata": {
  "kernelspec": {
   "display_name": "Python 3",
   "language": "python",
   "name": "python3"
  },
  "language_info": {
   "codemirror_mode": {
    "name": "ipython",
    "version": 3
   },
   "file_extension": ".py",
   "mimetype": "text/x-python",
   "name": "python",
   "nbconvert_exporter": "python",
   "pygments_lexer": "ipython3",
   "version": "3.8.8"
  }
 },
 "nbformat": 4,
 "nbformat_minor": 5
}
