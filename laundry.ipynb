{
 "cells": [
  {
   "cell_type": "code",
   "execution_count": 1,
   "id": "b1428cf1",
   "metadata": {},
   "outputs": [],
   "source": [
    "from bs4 import BeautifulSoup\n",
    "import requests\n",
    "import pandas as pd\n",
    "import urllib.parse"
   ]
  },
  {
   "cell_type": "code",
   "execution_count": 2,
   "id": "dd475944",
   "metadata": {},
   "outputs": [],
   "source": [
    "website = 'https://www.adesfoods.co.uk/ades/groceries/laundry-household.html'"
   ]
  },
  {
   "cell_type": "code",
   "execution_count": 3,
   "id": "a2ea3401",
   "metadata": {},
   "outputs": [],
   "source": [
    "response = requests.get(website)"
   ]
  },
  {
   "cell_type": "code",
   "execution_count": 4,
   "id": "d423ea68",
   "metadata": {},
   "outputs": [
    {
     "data": {
      "text/plain": [
       "200"
      ]
     },
     "execution_count": 4,
     "metadata": {},
     "output_type": "execute_result"
    }
   ],
   "source": [
    "response.status_code"
   ]
  },
  {
   "cell_type": "code",
   "execution_count": 5,
   "id": "b3abb952",
   "metadata": {},
   "outputs": [],
   "source": [
    "soup = BeautifulSoup(response.content,'html.parser')"
   ]
  },
  {
   "cell_type": "code",
   "execution_count": 6,
   "id": "ca16f182",
   "metadata": {},
   "outputs": [],
   "source": [
    "results = soup.find_all('div', {'class':'wrapper-hover'})"
   ]
  },
  {
   "cell_type": "code",
   "execution_count": 7,
   "id": "5c9735ff",
   "metadata": {},
   "outputs": [
    {
     "data": {
      "text/plain": [
       "15"
      ]
     },
     "execution_count": 7,
     "metadata": {},
     "output_type": "execute_result"
    }
   ],
   "source": [
    "len(results)"
   ]
  },
  {
   "cell_type": "code",
   "execution_count": 8,
   "id": "4bd5dc7a",
   "metadata": {},
   "outputs": [
    {
     "data": {
      "text/plain": [
       "<div class=\"wrapper-hover\">\n",
       "<div class=\"product-image-container\">\n",
       "<a class=\"product-image\" href=\"https://www.adesfoods.co.uk/ades/groceries/laundry-household/afton-room-fabulous-fruits-300ml.html\" itemprop=\"url\" title=\" Afton Room Fabulous Fruits 300ml\">\n",
       "<img alt=\" Afton Room Fabulous Fruits 300ml\" class=\"lazy\" data-src=\"https://www.adesfoods.co.uk/media/catalog/product/cache/4/small_image/210x/9df78eab33525d08d6e5fb8d27136e95/placeholder/default/small_image_1_icon_1.jpg\" id=\"product-collection-image-6563\" src=\"https://www.adesfoods.co.uk/skin/frontend/base/default/images/mgt_lazy_image_loader/loader.gif\" width=\"210\"/>\n",
       "</a>\n",
       "</div>\n",
       "<div class=\"product-info\">\n",
       "<h2 class=\"product-name\">\n",
       "<a href=\"https://www.adesfoods.co.uk/ades/groceries/laundry-household/afton-room-fabulous-fruits-300ml.html\" itemprop=\"name\" title=\" Afton Room Fabulous Fruits 300ml\">\n",
       "                                 Afton Room Fabulous Fruits 300ml\n",
       "                            </a>\n",
       "</h2>\n",
       "<div class=\"desc_grid\" itemprop=\"description\"> Afton Room Fabulous Fruits 300ml                        </div>\n",
       "<div class=\"price-box\">\n",
       "<span class=\"regular-price\" id=\"product-price-6563\">\n",
       "<span class=\"price\">£0.79</span> </span>\n",
       "</div>\n",
       "<div class=\"actions\">\n",
       "<p class=\"availability out-of-stock\"><span>Out of stock</span></p>\n",
       "<div class=\"clearfix\"></div>\n",
       "<ul class=\"add-to-links\">\n",
       "<li><a class=\"link-wishlist\" href=\"https://www.adesfoods.co.uk/ades/wishlist/index/add/product/6563/form_key/aGkchHyHxvIyKv4l/\">Add to Wishlist</a></li>\n",
       "</ul>\n",
       "</div>\n",
       "</div>\n",
       "<div class=\"label-product\">\n",
       "</div>\n",
       "</div>"
      ]
     },
     "execution_count": 8,
     "metadata": {},
     "output_type": "execute_result"
    }
   ],
   "source": [
    "results[0]"
   ]
  },
  {
   "cell_type": "code",
   "execution_count": 9,
   "id": "84bfc613",
   "metadata": {},
   "outputs": [
    {
     "data": {
      "text/plain": [
       "'\\n\\n                                 Afton Room Fabulous Fruits 300ml\\n                            \\n'"
      ]
     },
     "execution_count": 9,
     "metadata": {},
     "output_type": "execute_result"
    }
   ],
   "source": [
    "results[0].find('h2', {'class': 'product-name'}).get_text()"
   ]
  },
  {
   "cell_type": "code",
   "execution_count": 10,
   "id": "f7a451d5",
   "metadata": {},
   "outputs": [
    {
     "data": {
      "text/plain": [
       "'\\n\\n£0.79 \\n'"
      ]
     },
     "execution_count": 10,
     "metadata": {},
     "output_type": "execute_result"
    }
   ],
   "source": [
    "results[0].find('div', {'class': 'price-box'}).get_text()"
   ]
  },
  {
   "cell_type": "code",
   "execution_count": 11,
   "id": "d16f0393",
   "metadata": {},
   "outputs": [],
   "source": [
    "product_name_class = results[0].find('h2', {'class': 'product-name'})\n",
    "relative_url = product_name_class.find('a').get('href')"
   ]
  },
  {
   "cell_type": "code",
   "execution_count": 12,
   "id": "8ecb1e88",
   "metadata": {},
   "outputs": [],
   "source": [
    "root_url = 'https://www.adesfoods.co.uk/'"
   ]
  },
  {
   "cell_type": "code",
   "execution_count": 13,
   "id": "50f7dd43",
   "metadata": {},
   "outputs": [
    {
     "name": "stdout",
     "output_type": "stream",
     "text": [
      "https://www.adesfoods.co.uk/https://www.adesfoods.co.uk/ades/groceries/laundry-household/afton-room-fabulous-fruits-300ml.html\n"
     ]
    }
   ],
   "source": [
    "url_combine = root_url + relative_url\n",
    "print(url_combine)"
   ]
  },
  {
   "cell_type": "code",
   "execution_count": 14,
   "id": "50266f1e",
   "metadata": {},
   "outputs": [],
   "source": [
    "product_name = []\n",
    "product_price = []\n",
    "relative_url = []\n",
    "\n",
    "for i in range(1,8):\n",
    "    website = 'https://www.adesfoods.co.uk/ades/groceries/laundry-household.html?p=' + str(i)\n",
    "    \n",
    "    #request\n",
    "    response = requests.get(website)\n",
    "    \n",
    "    # soup object\n",
    "    soup = BeautifulSoup(response.content,'html.parser')\n",
    "    \n",
    "    # results\n",
    "    results = soup.find_all('div', {'class':'wrapper-hover'})\n",
    "    \n",
    "    #loop through results\n",
    "    for result in results:\n",
    "         #name\n",
    "        try:\n",
    "            product_name.append(result.find('h2', {'class': 'product-name'}).get_text())\n",
    "        except:\n",
    "            product_name.append('n/a')\n",
    "\n",
    "         #price\n",
    "        try:\n",
    "            product_price.append(result.find('div', {'class': 'price-box'}).get_text())\n",
    "        except:\n",
    "            product_price.append('n/a')\n",
    "\n",
    "         #relative url\n",
    "        try:\n",
    "            relative_url.append(result.find('a').get('href'))\n",
    "        except:\n",
    "            relative_url.append('n/a')\n"
   ]
  },
  {
   "cell_type": "code",
   "execution_count": 15,
   "id": "89455186",
   "metadata": {},
   "outputs": [],
   "source": [
    "url_combined = []\n",
    "\n",
    "for link in relative_url:\n",
    "    url_combined.append(urllib.parse.urljoin(root_url,link))"
   ]
  },
  {
   "cell_type": "code",
   "execution_count": 16,
   "id": "9d6ff56b",
   "metadata": {},
   "outputs": [],
   "source": [
    "product_overview = pd.DataFrame({'Name': product_name, 'Price': product_price })"
   ]
  },
  {
   "cell_type": "code",
   "execution_count": 17,
   "id": "37f87653",
   "metadata": {},
   "outputs": [
    {
     "data": {
      "text/html": [
       "<div>\n",
       "<style scoped>\n",
       "    .dataframe tbody tr th:only-of-type {\n",
       "        vertical-align: middle;\n",
       "    }\n",
       "\n",
       "    .dataframe tbody tr th {\n",
       "        vertical-align: top;\n",
       "    }\n",
       "\n",
       "    .dataframe thead th {\n",
       "        text-align: right;\n",
       "    }\n",
       "</style>\n",
       "<table border=\"1\" class=\"dataframe\">\n",
       "  <thead>\n",
       "    <tr style=\"text-align: right;\">\n",
       "      <th></th>\n",
       "      <th>Name</th>\n",
       "      <th>Price</th>\n",
       "    </tr>\n",
       "  </thead>\n",
       "  <tbody>\n",
       "    <tr>\n",
       "      <th>0</th>\n",
       "      <td>\\n\\n                                 Afton Roo...</td>\n",
       "      <td>\\n\\n£0.79 \\n</td>\n",
       "    </tr>\n",
       "    <tr>\n",
       "      <th>1</th>\n",
       "      <td>\\n\\n                                 Astonish ...</td>\n",
       "      <td>\\n\\n£1.19 \\n</td>\n",
       "    </tr>\n",
       "    <tr>\n",
       "      <th>2</th>\n",
       "      <td>\\n\\n                                 Astonish ...</td>\n",
       "      <td>\\n\\n£1.29 \\n</td>\n",
       "    </tr>\n",
       "    <tr>\n",
       "      <th>3</th>\n",
       "      <td>\\n\\n                                 Astonish ...</td>\n",
       "      <td>\\n\\n£1.19 \\n</td>\n",
       "    </tr>\n",
       "    <tr>\n",
       "      <th>4</th>\n",
       "      <td>\\n\\n                                 Bold 2 in...</td>\n",
       "      <td>\\n\\n£16.99 \\n</td>\n",
       "    </tr>\n",
       "    <tr>\n",
       "      <th>...</th>\n",
       "      <td>...</td>\n",
       "      <td>...</td>\n",
       "    </tr>\n",
       "    <tr>\n",
       "      <th>86</th>\n",
       "      <td>\\n\\n                                Washing Up...</td>\n",
       "      <td>\\n\\n£1.29 \\n</td>\n",
       "    </tr>\n",
       "    <tr>\n",
       "      <th>87</th>\n",
       "      <td>\\n\\n                                Washing Up...</td>\n",
       "      <td>\\n\\n£1.29 \\n</td>\n",
       "    </tr>\n",
       "    <tr>\n",
       "      <th>88</th>\n",
       "      <td>\\n\\n                                Wetties To...</td>\n",
       "      <td>\\n\\n£0.99 \\n</td>\n",
       "    </tr>\n",
       "    <tr>\n",
       "      <th>89</th>\n",
       "      <td>\\n\\n                                White Roll...</td>\n",
       "      <td>\\n\\n£2.49 \\n</td>\n",
       "    </tr>\n",
       "    <tr>\n",
       "      <th>90</th>\n",
       "      <td>\\n\\n                                Xintong Ba...</td>\n",
       "      <td>\\n\\n£0.79 \\n</td>\n",
       "    </tr>\n",
       "  </tbody>\n",
       "</table>\n",
       "<p>91 rows × 2 columns</p>\n",
       "</div>"
      ],
      "text/plain": [
       "                                                 Name          Price\n",
       "0   \\n\\n                                 Afton Roo...   \\n\\n£0.79 \\n\n",
       "1   \\n\\n                                 Astonish ...   \\n\\n£1.19 \\n\n",
       "2   \\n\\n                                 Astonish ...   \\n\\n£1.29 \\n\n",
       "3   \\n\\n                                 Astonish ...   \\n\\n£1.19 \\n\n",
       "4   \\n\\n                                 Bold 2 in...  \\n\\n£16.99 \\n\n",
       "..                                                ...            ...\n",
       "86  \\n\\n                                Washing Up...   \\n\\n£1.29 \\n\n",
       "87  \\n\\n                                Washing Up...   \\n\\n£1.29 \\n\n",
       "88  \\n\\n                                Wetties To...   \\n\\n£0.99 \\n\n",
       "89  \\n\\n                                White Roll...   \\n\\n£2.49 \\n\n",
       "90  \\n\\n                                Xintong Ba...   \\n\\n£0.79 \\n\n",
       "\n",
       "[91 rows x 2 columns]"
      ]
     },
     "execution_count": 17,
     "metadata": {},
     "output_type": "execute_result"
    }
   ],
   "source": [
    "product_overview"
   ]
  },
  {
   "cell_type": "code",
   "execution_count": 18,
   "id": "fd4268d6",
   "metadata": {},
   "outputs": [],
   "source": [
    "product_overview.to_excel('results_laundry_page.xlsx', index=False)"
   ]
  },
  {
   "cell_type": "code",
   "execution_count": null,
   "id": "1a84ec22",
   "metadata": {},
   "outputs": [],
   "source": []
  }
 ],
 "metadata": {
  "kernelspec": {
   "display_name": "Python 3",
   "language": "python",
   "name": "python3"
  },
  "language_info": {
   "codemirror_mode": {
    "name": "ipython",
    "version": 3
   },
   "file_extension": ".py",
   "mimetype": "text/x-python",
   "name": "python",
   "nbconvert_exporter": "python",
   "pygments_lexer": "ipython3",
   "version": "3.8.8"
  }
 },
 "nbformat": 4,
 "nbformat_minor": 5
}
