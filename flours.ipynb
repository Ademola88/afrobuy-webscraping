{
 "cells": [
  {
   "cell_type": "code",
   "execution_count": 1,
   "id": "4391d886",
   "metadata": {},
   "outputs": [],
   "source": [
    "from bs4 import BeautifulSoup\n",
    "import requests\n",
    "import pandas as pd\n",
    "import urllib.parse"
   ]
  },
  {
   "cell_type": "code",
   "execution_count": 2,
   "id": "c5c84ae1",
   "metadata": {},
   "outputs": [],
   "source": [
    "website = 'https://www.adesfoods.co.uk/ades/groceries/flours.html'"
   ]
  },
  {
   "cell_type": "code",
   "execution_count": 3,
   "id": "eeba9667",
   "metadata": {},
   "outputs": [],
   "source": [
    "response = requests.get(website)"
   ]
  },
  {
   "cell_type": "code",
   "execution_count": 4,
   "id": "44f3fd55",
   "metadata": {},
   "outputs": [
    {
     "data": {
      "text/plain": [
       "200"
      ]
     },
     "execution_count": 4,
     "metadata": {},
     "output_type": "execute_result"
    }
   ],
   "source": [
    "response.status_code"
   ]
  },
  {
   "cell_type": "code",
   "execution_count": 5,
   "id": "fecc531a",
   "metadata": {},
   "outputs": [],
   "source": [
    "soup = BeautifulSoup(response.content,'html.parser')"
   ]
  },
  {
   "cell_type": "code",
   "execution_count": 6,
   "id": "8a7345af",
   "metadata": {},
   "outputs": [],
   "source": [
    "results = soup.find_all('div', {'class':'wrapper-hover'})"
   ]
  },
  {
   "cell_type": "code",
   "execution_count": 7,
   "id": "34717e09",
   "metadata": {},
   "outputs": [
    {
     "data": {
      "text/plain": [
       "15"
      ]
     },
     "execution_count": 7,
     "metadata": {},
     "output_type": "execute_result"
    }
   ],
   "source": [
    "len(results)"
   ]
  },
  {
   "cell_type": "code",
   "execution_count": 8,
   "id": "557b2b4f",
   "metadata": {},
   "outputs": [
    {
     "data": {
      "text/plain": [
       "<div class=\"wrapper-hover\">\n",
       "<div class=\"product-image-container\">\n",
       "<a class=\"product-image\" href=\"https://www.adesfoods.co.uk/ades/groceries/flours/mc-dougalls-self-raising-flour-1-1kg.html\" itemprop=\"url\" title=\" McDougall's Self raising Flour 1.1kg\">\n",
       "<img alt=\" McDougall's Self raising Flour 1.1kg\" class=\"lazy\" data-src=\"https://www.adesfoods.co.uk/media/catalog/product/cache/4/small_image/210x/9df78eab33525d08d6e5fb8d27136e95/m/c/mcdougall_s-self-raising-flour-1.1kg.jpg\" id=\"product-collection-image-6047\" src=\"https://www.adesfoods.co.uk/skin/frontend/base/default/images/mgt_lazy_image_loader/loader.gif\" width=\"210\"/>\n",
       "</a>\n",
       "</div>\n",
       "<div class=\"product-info\">\n",
       "<h2 class=\"product-name\">\n",
       "<a href=\"https://www.adesfoods.co.uk/ades/groceries/flours/mc-dougalls-self-raising-flour-1-1kg.html\" itemprop=\"name\" title=\" McDougall's Self raising Flour 1.1kg\">\n",
       "                                 McDougall's Self raising Flour 1.1kg\n",
       "                            </a>\n",
       "</h2>\n",
       "<div class=\"desc_grid\" itemprop=\"description\">McDougall's Self-raising Flour 1.1kg                        </div>\n",
       "<div class=\"price-box\">\n",
       "<span class=\"regular-price\" id=\"product-price-6047\">\n",
       "<span class=\"price\">£1.59</span> </span>\n",
       "</div>\n",
       "<div class=\"actions\">\n",
       "<p class=\"availability out-of-stock\"><span>Out of stock</span></p>\n",
       "<div class=\"clearfix\"></div>\n",
       "<ul class=\"add-to-links\">\n",
       "<li><a class=\"link-wishlist\" href=\"https://www.adesfoods.co.uk/ades/wishlist/index/add/product/6047/form_key/43zdHmTq501tHDVo/\">Add to Wishlist</a></li>\n",
       "</ul>\n",
       "</div>\n",
       "</div>\n",
       "<div class=\"label-product\">\n",
       "</div>\n",
       "</div>"
      ]
     },
     "execution_count": 8,
     "metadata": {},
     "output_type": "execute_result"
    }
   ],
   "source": [
    "results[0]"
   ]
  },
  {
   "cell_type": "code",
   "execution_count": 9,
   "id": "9cb749a0",
   "metadata": {},
   "outputs": [
    {
     "data": {
      "text/plain": [
       "\"\\n\\n                                 McDougall's Self raising Flour 1.1kg\\n                            \\n\""
      ]
     },
     "execution_count": 9,
     "metadata": {},
     "output_type": "execute_result"
    }
   ],
   "source": [
    "results[0].find('h2', {'class': 'product-name'}).get_text()"
   ]
  },
  {
   "cell_type": "code",
   "execution_count": 10,
   "id": "bf47df93",
   "metadata": {},
   "outputs": [
    {
     "data": {
      "text/plain": [
       "'\\n\\n£1.59 \\n'"
      ]
     },
     "execution_count": 10,
     "metadata": {},
     "output_type": "execute_result"
    }
   ],
   "source": [
    "results[0].find('div', {'class': 'price-box'}).get_text()"
   ]
  },
  {
   "cell_type": "code",
   "execution_count": 11,
   "id": "36316cf3",
   "metadata": {},
   "outputs": [],
   "source": [
    "product_name_class = results[0].find('h2', {'class': 'product-name'})\n",
    "relative_url = product_name_class.find('a').get('href')"
   ]
  },
  {
   "cell_type": "code",
   "execution_count": 12,
   "id": "270cc22c",
   "metadata": {},
   "outputs": [],
   "source": [
    "root_url = 'https://www.adesfoods.co.uk/'"
   ]
  },
  {
   "cell_type": "code",
   "execution_count": 13,
   "id": "0eb398e5",
   "metadata": {},
   "outputs": [
    {
     "name": "stdout",
     "output_type": "stream",
     "text": [
      "https://www.adesfoods.co.uk/https://www.adesfoods.co.uk/ades/groceries/flours/mc-dougalls-self-raising-flour-1-1kg.html\n"
     ]
    }
   ],
   "source": [
    "url_combine = root_url + relative_url\n",
    "print(url_combine)"
   ]
  },
  {
   "cell_type": "code",
   "execution_count": 14,
   "id": "13ef7178",
   "metadata": {},
   "outputs": [],
   "source": [
    "product_name = []\n",
    "product_price = []\n",
    "relative_url = []\n",
    "\n",
    "for i in range(1,5):\n",
    "    website = 'https://www.adesfoods.co.uk/ades/groceries/flours.html?p=' + str(i)\n",
    "    \n",
    "    #request\n",
    "    response = requests.get(website)\n",
    "    \n",
    "    # soup object\n",
    "    soup = BeautifulSoup(response.content,'html.parser')\n",
    "    \n",
    "    # results\n",
    "    results = soup.find_all('div', {'class':'wrapper-hover'})\n",
    "    \n",
    "    #loop through results\n",
    "    for result in results:\n",
    "         #name\n",
    "        try:\n",
    "            product_name.append(result.find('h2', {'class': 'product-name'}).get_text())\n",
    "        except:\n",
    "            product_name.append('n/a')\n",
    "\n",
    "         #price\n",
    "        try:\n",
    "            product_price.append(result.find('div', {'class': 'price-box'}).get_text())\n",
    "        except:\n",
    "            product_price.append('n/a')\n",
    "\n",
    "         #relative url\n",
    "        try:\n",
    "            relative_url.append(result.find('a').get('href'))\n",
    "        except:\n",
    "            relative_url.append('n/a')\n"
   ]
  },
  {
   "cell_type": "code",
   "execution_count": 15,
   "id": "a587ed56",
   "metadata": {},
   "outputs": [],
   "source": [
    "url_combined = []\n",
    "\n",
    "for link in relative_url:\n",
    "    url_combined.append(urllib.parse.urljoin(root_url,link))"
   ]
  },
  {
   "cell_type": "code",
   "execution_count": 16,
   "id": "8d4400f6",
   "metadata": {},
   "outputs": [],
   "source": [
    "product_overview = pd.DataFrame({'Name': product_name, 'Price': product_price })"
   ]
  },
  {
   "cell_type": "code",
   "execution_count": 17,
   "id": "a47899c9",
   "metadata": {},
   "outputs": [
    {
     "data": {
      "text/html": [
       "<div>\n",
       "<style scoped>\n",
       "    .dataframe tbody tr th:only-of-type {\n",
       "        vertical-align: middle;\n",
       "    }\n",
       "\n",
       "    .dataframe tbody tr th {\n",
       "        vertical-align: top;\n",
       "    }\n",
       "\n",
       "    .dataframe thead th {\n",
       "        text-align: right;\n",
       "    }\n",
       "</style>\n",
       "<table border=\"1\" class=\"dataframe\">\n",
       "  <thead>\n",
       "    <tr style=\"text-align: right;\">\n",
       "      <th></th>\n",
       "      <th>Name</th>\n",
       "      <th>Price</th>\n",
       "    </tr>\n",
       "  </thead>\n",
       "  <tbody>\n",
       "    <tr>\n",
       "      <th>0</th>\n",
       "      <td>\\n\\n                                 McDougall...</td>\n",
       "      <td>\\n\\n£1.59 \\n</td>\n",
       "    </tr>\n",
       "    <tr>\n",
       "      <th>1</th>\n",
       "      <td>\\n\\n                                 Oats Fufu...</td>\n",
       "      <td>\\n\\n£13.99 \\n</td>\n",
       "    </tr>\n",
       "    <tr>\n",
       "      <th>2</th>\n",
       "      <td>\\n\\n                                Ades Beans...</td>\n",
       "      <td>\\n\\n£2.99 \\n</td>\n",
       "    </tr>\n",
       "    <tr>\n",
       "      <th>3</th>\n",
       "      <td>\\n\\n                                Ades Farin...</td>\n",
       "      <td>\\n\\n£2.99 \\n</td>\n",
       "    </tr>\n",
       "    <tr>\n",
       "      <th>4</th>\n",
       "      <td>\\n\\n                                Ades Lafun...</td>\n",
       "      <td>\\n\\n£3.99 \\n</td>\n",
       "    </tr>\n",
       "    <tr>\n",
       "      <th>5</th>\n",
       "      <td>\\n\\n                                Ades Plant...</td>\n",
       "      <td>\\n\\n£14.99 \\n</td>\n",
       "    </tr>\n",
       "    <tr>\n",
       "      <th>6</th>\n",
       "      <td>\\n\\n                                Ades Pound...</td>\n",
       "      <td>\\n\\n£32.99 \\n</td>\n",
       "    </tr>\n",
       "    <tr>\n",
       "      <th>7</th>\n",
       "      <td>\\n\\n                                Ades Pound...</td>\n",
       "      <td>\\n\\n£8.99 \\n</td>\n",
       "    </tr>\n",
       "    <tr>\n",
       "      <th>8</th>\n",
       "      <td>\\n\\n                                Ades Pound...</td>\n",
       "      <td>\\n\\n£18.99 \\n</td>\n",
       "    </tr>\n",
       "    <tr>\n",
       "      <th>9</th>\n",
       "      <td>\\n\\n                                Ades Semol...</td>\n",
       "      <td>\\n\\n£3.99 \\n</td>\n",
       "    </tr>\n",
       "    <tr>\n",
       "      <th>10</th>\n",
       "      <td>\\n\\n                                Ades Semol...</td>\n",
       "      <td>\\n\\n£1.99 \\n</td>\n",
       "    </tr>\n",
       "    <tr>\n",
       "      <th>11</th>\n",
       "      <td>\\n\\n                                Ades Semol...</td>\n",
       "      <td>\\n\\n£3.99 \\n</td>\n",
       "    </tr>\n",
       "    <tr>\n",
       "      <th>12</th>\n",
       "      <td>\\n\\n                                Ades Semol...</td>\n",
       "      <td>\\n\\n£2.99 \\n</td>\n",
       "    </tr>\n",
       "    <tr>\n",
       "      <th>13</th>\n",
       "      <td>\\n\\n                                Ades Yam F...</td>\n",
       "      <td>\\n\\n£3.99 \\n</td>\n",
       "    </tr>\n",
       "    <tr>\n",
       "      <th>14</th>\n",
       "      <td>\\n\\n                                Ades Yam F...</td>\n",
       "      <td>\\n\\n£33.99 \\n</td>\n",
       "    </tr>\n",
       "    <tr>\n",
       "      <th>15</th>\n",
       "      <td>\\n\\n                                Ades Yam F...</td>\n",
       "      <td>\\n\\n£7.99 \\n</td>\n",
       "    </tr>\n",
       "    <tr>\n",
       "      <th>16</th>\n",
       "      <td>\\n\\n                                Ades Yam F...</td>\n",
       "      <td>\\n\\n£15.99 \\n</td>\n",
       "    </tr>\n",
       "    <tr>\n",
       "      <th>17</th>\n",
       "      <td>\\n\\n                                African Be...</td>\n",
       "      <td>\\n\\n£2.99 \\n</td>\n",
       "    </tr>\n",
       "    <tr>\n",
       "      <th>18</th>\n",
       "      <td>\\n\\n                                Allied Mil...</td>\n",
       "      <td>\\n\\n£12.99 \\n</td>\n",
       "    </tr>\n",
       "    <tr>\n",
       "      <th>19</th>\n",
       "      <td>\\n\\n                                Bmac Beans...</td>\n",
       "      <td>\\n\\n£3.49 \\n</td>\n",
       "    </tr>\n",
       "    <tr>\n",
       "      <th>20</th>\n",
       "      <td>\\n\\n                                Dark Mille...</td>\n",
       "      <td>\\n\\n£6.99 \\n</td>\n",
       "    </tr>\n",
       "    <tr>\n",
       "      <th>21</th>\n",
       "      <td>\\n\\n                                Golden Pen...</td>\n",
       "      <td>\\n\\n£3.49 \\n</td>\n",
       "    </tr>\n",
       "    <tr>\n",
       "      <th>22</th>\n",
       "      <td>\\n\\n                                Golden Pen...</td>\n",
       "      <td>\\n\\n£7.99 \\n</td>\n",
       "    </tr>\n",
       "    <tr>\n",
       "      <th>23</th>\n",
       "      <td>\\n\\n                                Honeywell ...</td>\n",
       "      <td>\\n\\n£12.99 \\n</td>\n",
       "    </tr>\n",
       "    <tr>\n",
       "      <th>24</th>\n",
       "      <td>\\n\\n                                Honeywell ...</td>\n",
       "      <td>\\n\\n£3.49 \\n</td>\n",
       "    </tr>\n",
       "    <tr>\n",
       "      <th>25</th>\n",
       "      <td>\\n\\n                                Honeywell ...</td>\n",
       "      <td>\\n\\n£7.99 \\n</td>\n",
       "    </tr>\n",
       "    <tr>\n",
       "      <th>26</th>\n",
       "      <td>\\n\\n                                Honeywell ...</td>\n",
       "      <td>\\n\\n£12.99 \\n</td>\n",
       "    </tr>\n",
       "    <tr>\n",
       "      <th>27</th>\n",
       "      <td>\\n\\n                                Honeywell ...</td>\n",
       "      <td>\\n\\n£0.99 \\n</td>\n",
       "    </tr>\n",
       "    <tr>\n",
       "      <th>28</th>\n",
       "      <td>\\n\\n                                Honeywell ...</td>\n",
       "      <td>\\n\\n£3.99 \\n</td>\n",
       "    </tr>\n",
       "    <tr>\n",
       "      <th>29</th>\n",
       "      <td>\\n\\n                                IBK Kitche...</td>\n",
       "      <td>\\n\\n£4.99 \\n</td>\n",
       "    </tr>\n",
       "    <tr>\n",
       "      <th>30</th>\n",
       "      <td>\\n\\n                                IBK Kitche...</td>\n",
       "      <td>\\n\\n£4.99 \\n</td>\n",
       "    </tr>\n",
       "    <tr>\n",
       "      <th>31</th>\n",
       "      <td>\\n\\n                                IBK Kitche...</td>\n",
       "      <td>\\n\\n£5.99 \\n</td>\n",
       "    </tr>\n",
       "    <tr>\n",
       "      <th>32</th>\n",
       "      <td>\\n\\n                                Instant Ma...</td>\n",
       "      <td>\\n\\n£2.99 \\n</td>\n",
       "    </tr>\n",
       "    <tr>\n",
       "      <th>33</th>\n",
       "      <td>\\n\\n                                Iwisa Supe...</td>\n",
       "      <td>\\n\\n£10.99 \\n</td>\n",
       "    </tr>\n",
       "    <tr>\n",
       "      <th>34</th>\n",
       "      <td>\\n\\n                                Jolamy Ava...</td>\n",
       "      <td>\\n\\n£1.99 \\n</td>\n",
       "    </tr>\n",
       "    <tr>\n",
       "      <th>35</th>\n",
       "      <td>\\n\\n                                Lafun (Cas...</td>\n",
       "      <td>\\n\\n£6.99 \\n</td>\n",
       "    </tr>\n",
       "    <tr>\n",
       "      <th>36</th>\n",
       "      <td>\\n\\n                                Love Divin...</td>\n",
       "      <td>\\n\\n£3.49 \\n</td>\n",
       "    </tr>\n",
       "    <tr>\n",
       "      <th>37</th>\n",
       "      <td>\\n\\n                                Love Divin...</td>\n",
       "      <td>\\n\\n£8.99 \\n</td>\n",
       "    </tr>\n",
       "    <tr>\n",
       "      <th>38</th>\n",
       "      <td>\\n\\n                                Maganjo Ma...</td>\n",
       "      <td>\\n\\n£8.49 \\n</td>\n",
       "    </tr>\n",
       "    <tr>\n",
       "      <th>39</th>\n",
       "      <td>\\n\\n                                Mama Choic...</td>\n",
       "      <td>\\n\\n£2.99 \\n</td>\n",
       "    </tr>\n",
       "    <tr>\n",
       "      <th>40</th>\n",
       "      <td>\\n\\n                                Mama's Cho...</td>\n",
       "      <td>\\n\\n£2.99 \\n</td>\n",
       "    </tr>\n",
       "    <tr>\n",
       "      <th>41</th>\n",
       "      <td>\\n\\n                                Neat Plant...</td>\n",
       "      <td>\\n\\n£3.99 \\n</td>\n",
       "    </tr>\n",
       "    <tr>\n",
       "      <th>42</th>\n",
       "      <td>\\n\\n                                Niji Foods...</td>\n",
       "      <td>\\n\\n£1.99 \\n</td>\n",
       "    </tr>\n",
       "    <tr>\n",
       "      <th>43</th>\n",
       "      <td>\\n\\n                                Ofi Pounde...</td>\n",
       "      <td>\\n\\n£4.99 \\n</td>\n",
       "    </tr>\n",
       "    <tr>\n",
       "      <th>44</th>\n",
       "      <td>\\n\\n                                Plantain F...</td>\n",
       "      <td>\\n\\n£2.99 \\n</td>\n",
       "    </tr>\n",
       "    <tr>\n",
       "      <th>45</th>\n",
       "      <td>\\n\\n                                Plantain F...</td>\n",
       "      <td>\\n\\n£4.99 \\n</td>\n",
       "    </tr>\n",
       "    <tr>\n",
       "      <th>46</th>\n",
       "      <td>\\n\\n                                Royal Oats...</td>\n",
       "      <td>\\n\\n£3.99 \\n</td>\n",
       "    </tr>\n",
       "    <tr>\n",
       "      <th>47</th>\n",
       "      <td>\\n\\n                                Royal Oats...</td>\n",
       "      <td>\\n\\n£6.49 \\n</td>\n",
       "    </tr>\n",
       "    <tr>\n",
       "      <th>48</th>\n",
       "      <td>\\n\\n                                Semovita G...</td>\n",
       "      <td>\\n\\n£1.99 \\n</td>\n",
       "    </tr>\n",
       "    <tr>\n",
       "      <th>49</th>\n",
       "      <td>\\n\\n                                The Core O...</td>\n",
       "      <td>\\n\\n£3.49 \\n</td>\n",
       "    </tr>\n",
       "    <tr>\n",
       "      <th>50</th>\n",
       "      <td>\\n\\n                                The Core O...</td>\n",
       "      <td>\\n\\n£7.99 \\n</td>\n",
       "    </tr>\n",
       "    <tr>\n",
       "      <th>51</th>\n",
       "      <td>\\n\\n                                Tropiway C...</td>\n",
       "      <td>\\n\\n£2.99 \\n</td>\n",
       "    </tr>\n",
       "    <tr>\n",
       "      <th>52</th>\n",
       "      <td>\\n\\n                                Tropiway P...</td>\n",
       "      <td>\\n\\n£2.99 \\n</td>\n",
       "    </tr>\n",
       "  </tbody>\n",
       "</table>\n",
       "</div>"
      ],
      "text/plain": [
       "                                                 Name          Price\n",
       "0   \\n\\n                                 McDougall...   \\n\\n£1.59 \\n\n",
       "1   \\n\\n                                 Oats Fufu...  \\n\\n£13.99 \\n\n",
       "2   \\n\\n                                Ades Beans...   \\n\\n£2.99 \\n\n",
       "3   \\n\\n                                Ades Farin...   \\n\\n£2.99 \\n\n",
       "4   \\n\\n                                Ades Lafun...   \\n\\n£3.99 \\n\n",
       "5   \\n\\n                                Ades Plant...  \\n\\n£14.99 \\n\n",
       "6   \\n\\n                                Ades Pound...  \\n\\n£32.99 \\n\n",
       "7   \\n\\n                                Ades Pound...   \\n\\n£8.99 \\n\n",
       "8   \\n\\n                                Ades Pound...  \\n\\n£18.99 \\n\n",
       "9   \\n\\n                                Ades Semol...   \\n\\n£3.99 \\n\n",
       "10  \\n\\n                                Ades Semol...   \\n\\n£1.99 \\n\n",
       "11  \\n\\n                                Ades Semol...   \\n\\n£3.99 \\n\n",
       "12  \\n\\n                                Ades Semol...   \\n\\n£2.99 \\n\n",
       "13  \\n\\n                                Ades Yam F...   \\n\\n£3.99 \\n\n",
       "14  \\n\\n                                Ades Yam F...  \\n\\n£33.99 \\n\n",
       "15  \\n\\n                                Ades Yam F...   \\n\\n£7.99 \\n\n",
       "16  \\n\\n                                Ades Yam F...  \\n\\n£15.99 \\n\n",
       "17  \\n\\n                                African Be...   \\n\\n£2.99 \\n\n",
       "18  \\n\\n                                Allied Mil...  \\n\\n£12.99 \\n\n",
       "19  \\n\\n                                Bmac Beans...   \\n\\n£3.49 \\n\n",
       "20  \\n\\n                                Dark Mille...   \\n\\n£6.99 \\n\n",
       "21  \\n\\n                                Golden Pen...   \\n\\n£3.49 \\n\n",
       "22  \\n\\n                                Golden Pen...   \\n\\n£7.99 \\n\n",
       "23  \\n\\n                                Honeywell ...  \\n\\n£12.99 \\n\n",
       "24  \\n\\n                                Honeywell ...   \\n\\n£3.49 \\n\n",
       "25  \\n\\n                                Honeywell ...   \\n\\n£7.99 \\n\n",
       "26  \\n\\n                                Honeywell ...  \\n\\n£12.99 \\n\n",
       "27  \\n\\n                                Honeywell ...   \\n\\n£0.99 \\n\n",
       "28  \\n\\n                                Honeywell ...   \\n\\n£3.99 \\n\n",
       "29  \\n\\n                                IBK Kitche...   \\n\\n£4.99 \\n\n",
       "30  \\n\\n                                IBK Kitche...   \\n\\n£4.99 \\n\n",
       "31  \\n\\n                                IBK Kitche...   \\n\\n£5.99 \\n\n",
       "32  \\n\\n                                Instant Ma...   \\n\\n£2.99 \\n\n",
       "33  \\n\\n                                Iwisa Supe...  \\n\\n£10.99 \\n\n",
       "34  \\n\\n                                Jolamy Ava...   \\n\\n£1.99 \\n\n",
       "35  \\n\\n                                Lafun (Cas...   \\n\\n£6.99 \\n\n",
       "36  \\n\\n                                Love Divin...   \\n\\n£3.49 \\n\n",
       "37  \\n\\n                                Love Divin...   \\n\\n£8.99 \\n\n",
       "38  \\n\\n                                Maganjo Ma...   \\n\\n£8.49 \\n\n",
       "39  \\n\\n                                Mama Choic...   \\n\\n£2.99 \\n\n",
       "40  \\n\\n                                Mama's Cho...   \\n\\n£2.99 \\n\n",
       "41  \\n\\n                                Neat Plant...   \\n\\n£3.99 \\n\n",
       "42  \\n\\n                                Niji Foods...   \\n\\n£1.99 \\n\n",
       "43  \\n\\n                                Ofi Pounde...   \\n\\n£4.99 \\n\n",
       "44  \\n\\n                                Plantain F...   \\n\\n£2.99 \\n\n",
       "45  \\n\\n                                Plantain F...   \\n\\n£4.99 \\n\n",
       "46  \\n\\n                                Royal Oats...   \\n\\n£3.99 \\n\n",
       "47  \\n\\n                                Royal Oats...   \\n\\n£6.49 \\n\n",
       "48  \\n\\n                                Semovita G...   \\n\\n£1.99 \\n\n",
       "49  \\n\\n                                The Core O...   \\n\\n£3.49 \\n\n",
       "50  \\n\\n                                The Core O...   \\n\\n£7.99 \\n\n",
       "51  \\n\\n                                Tropiway C...   \\n\\n£2.99 \\n\n",
       "52  \\n\\n                                Tropiway P...   \\n\\n£2.99 \\n"
      ]
     },
     "execution_count": 17,
     "metadata": {},
     "output_type": "execute_result"
    }
   ],
   "source": [
    "product_overview"
   ]
  },
  {
   "cell_type": "code",
   "execution_count": 18,
   "id": "7114e799",
   "metadata": {},
   "outputs": [],
   "source": [
    "product_overview.to_excel('results_flours_page.xlsx', index=False)"
   ]
  },
  {
   "cell_type": "code",
   "execution_count": null,
   "id": "c6163ce1",
   "metadata": {},
   "outputs": [],
   "source": []
  }
 ],
 "metadata": {
  "kernelspec": {
   "display_name": "Python 3",
   "language": "python",
   "name": "python3"
  },
  "language_info": {
   "codemirror_mode": {
    "name": "ipython",
    "version": 3
   },
   "file_extension": ".py",
   "mimetype": "text/x-python",
   "name": "python",
   "nbconvert_exporter": "python",
   "pygments_lexer": "ipython3",
   "version": "3.8.8"
  }
 },
 "nbformat": 4,
 "nbformat_minor": 5
}
