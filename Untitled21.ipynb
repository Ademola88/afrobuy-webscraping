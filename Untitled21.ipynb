{
 "cells": [
  {
   "cell_type": "code",
   "execution_count": 1,
   "id": "398f6b69",
   "metadata": {},
   "outputs": [],
   "source": [
    "from bs4 import BeautifulSoup\n",
    "import requests\n",
    "import pandas as pd\n",
    "import urllib.parse"
   ]
  },
  {
   "cell_type": "code",
   "execution_count": 2,
   "id": "79bc1cce",
   "metadata": {},
   "outputs": [],
   "source": [
    "website = 'https://www.adesfoods.co.uk/ades/fish-meat-poutry/fresh-frozen-beef-lamb-goat.html'"
   ]
  },
  {
   "cell_type": "code",
   "execution_count": 3,
   "id": "e157b548",
   "metadata": {},
   "outputs": [],
   "source": [
    "response = requests.get(website)"
   ]
  },
  {
   "cell_type": "code",
   "execution_count": 4,
   "id": "f99b4eb8",
   "metadata": {},
   "outputs": [
    {
     "data": {
      "text/plain": [
       "200"
      ]
     },
     "execution_count": 4,
     "metadata": {},
     "output_type": "execute_result"
    }
   ],
   "source": [
    "response.status_code"
   ]
  },
  {
   "cell_type": "code",
   "execution_count": 5,
   "id": "b2f54da2",
   "metadata": {},
   "outputs": [],
   "source": [
    "soup = BeautifulSoup(response.content,'html.parser')"
   ]
  },
  {
   "cell_type": "code",
   "execution_count": 6,
   "id": "20b6dfd2",
   "metadata": {},
   "outputs": [],
   "source": [
    "results = soup.find_all('div', {'class':'wrapper-hover'})"
   ]
  },
  {
   "cell_type": "code",
   "execution_count": 7,
   "id": "841292d7",
   "metadata": {},
   "outputs": [
    {
     "data": {
      "text/plain": [
       "15"
      ]
     },
     "execution_count": 7,
     "metadata": {},
     "output_type": "execute_result"
    }
   ],
   "source": [
    "len(results)"
   ]
  },
  {
   "cell_type": "code",
   "execution_count": 8,
   "id": "f64cab72",
   "metadata": {},
   "outputs": [
    {
     "data": {
      "text/plain": [
       "<div class=\"wrapper-hover\">\n",
       "<div class=\"product-image-container\">\n",
       "<a class=\"product-image\" href=\"https://www.adesfoods.co.uk/ades/fish-meat-poutry/fresh-frozen-beef-lamb-goat/abodi-crown-peppersoup-cut-500g-packgel.html\" itemprop=\"url\" title=\"Abodi Crown Peppersoup Cut 500g (Packgel)\">\n",
       "<img alt=\"Abodi Crown Peppersoup Cut 500g (Packgel)\" class=\"lazy\" data-src=\"https://www.adesfoods.co.uk/media/catalog/product/cache/4/small_image/210x/9df78eab33525d08d6e5fb8d27136e95/i/m/img_8056.jpg\" id=\"product-collection-image-14068\" src=\"https://www.adesfoods.co.uk/skin/frontend/base/default/images/mgt_lazy_image_loader/loader.gif\" width=\"210\"/>\n",
       "</a>\n",
       "</div>\n",
       "<div class=\"product-info\">\n",
       "<h2 class=\"product-name\">\n",
       "<a href=\"https://www.adesfoods.co.uk/ades/fish-meat-poutry/fresh-frozen-beef-lamb-goat/abodi-crown-peppersoup-cut-500g-packgel.html\" itemprop=\"name\" title=\"Abodi Crown Peppersoup Cut 500g (Packgel)\">\n",
       "                                Abodi Crown Peppersoup Cut 500g (Packgel)\n",
       "                            </a>\n",
       "</h2>\n",
       "<div class=\"desc_grid\" itemprop=\"description\">Abodi Crown Peppersoup Cut 500g (Packgel)                        </div>\n",
       "<div class=\"price-box\">\n",
       "<span class=\"regular-price\" id=\"product-price-14068\">\n",
       "<span class=\"price\">£2.49</span> </span>\n",
       "</div>\n",
       "<div class=\"actions\">\n",
       "<form action=\"https://www.adesfoods.co.uk/ades/checkout/icart/add/uenc/aHR0cHM6Ly93d3cuYWRlc2Zvb2RzLmNvLnVrL2FkZXMvZmlzaC1tZWF0LXBvdXRyeS9mcmVzaC1mcm96ZW4tYmVlZi1sYW1iLWdvYXQuaHRtbA,,/product/14068/\" id=\"product_addtocart_form_14068\" method=\"post\">\n",
       "<div id=\"getdataform14068\">\n",
       "</div>\n",
       "<div class=\"qty-updater\"> <a class=\"left\" href=\"javascript:void(0)\" onclick=\"decrementQty(this);\"><i aria-hidden=\"true\" class=\"fa fa-minus\"></i></a>\n",
       "<input class=\"input-text qty\" id=\"14068\" maxlength=\"12\" name=\"qty\" pattern=\"\\d*\" title=\"Qty\" type=\"text\" value=\"1\"/>\n",
       "<a class=\"right\" href=\"javascript:void(0);\" onclick=\"incrementQty(this);\"><i aria-hidden=\"true\" class=\"fa fa-plus\"></i></a></div>\n",
       "<button class=\"button btn-cart del-14068\" onclick=\"setLocationAjax('https://www.adesfoods.co.uk/ades/checkout/icart/add/uenc/aHR0cHM6Ly93d3cuYWRlc2Zvb2RzLmNvLnVrL2FkZXMvZmlzaC1tZWF0LXBvdXRyeS9mcmVzaC1mcm96ZW4tYmVlZi1sYW1iLWdvYXQuaHRtbA,,/product/14068/','14068')\" title=\"Add to Cart\" type=\"button\"><span><span>Add</span></span></button>\n",
       "<span id=\"ajax_loader14068\" style=\"display:none\"><img src=\"https://www.adesfoods.co.uk/skin/frontend/adesfoods/default/images/opc-ajax-loader.gif\"/></span>\n",
       "<span class=\"basket-btn\" id=\"inBasket_show_14068\" style=\"display:none;\"><i aria-hidden=\"true\" class=\"fa fa-check\"></i><span id=\"inBasketQty14068\">0</span> in basket</span>\n",
       "</form>\n",
       "<script type=\"text/javascript\">\n",
       "\n",
       "\n",
       "\t\t\t\t\t\t\t\t\t\t var productAddToCartForm_14068 = new VarienForm('product_addtocart_form_14068');\n",
       "\t\t\t\t\t\t\t\t\t\t productAddToCartForm_14068.submit = function(){\n",
       "\n",
       "\t\t\t\t\t\t\t\t\t\t if (this.validator.validate()) {\n",
       "\t\t\t\t\t\t\t\t\t\tvar url = jQuery('#product_addtocart_form_14068').attr( 'action' );\n",
       "\t\t\t\t\t\t\t\t\t\t//alert(url);return false;\n",
       "\t\t\t\t\t\t\t\t\t\t //ajaxcart.ajaxCartSubmit(this);\n",
       "\t\t\t\t\t\t\t\t\t\t\t\t// this.form.submit();\n",
       "\t\t\t\t\t\t\t\t\t\t\t\tjQuery.ajax( {\n",
       "\t\t\t\t\t\t\t\t\t\t\t\turl : url,\n",
       "\t\t\t\t\t\t\t\t\t\t\t\tasync:false,\n",
       "\t\t\t\t\t\t\t\t\t\t\t\tmethod:'post',\n",
       "\t\t\t\t\t\t\t\t\t\t\t\tdata: jQuery(\"#product_addtocart_form_14068\").serialize(),\t\t\t\n",
       "\t\t\t\t\t\t\t\t\t\t\t\tsuccess : function(transport) {\n",
       "\t\t\t\t\t\t\t\t\t\t\t\t\tvar resp=new String(transport);   \n",
       "\t\t\t\t\t\t\t\t\t\t\t\t\tevaluate(resp);\n",
       "\t\t\t\t\t\t\t\t\t\t\t\t},\n",
       "\t\t\t\t\t\t\t\t\t\t\t\terror: function (textStatus, errorThrown) {   \n",
       "\t\t\t\t\t\t\t\t\t\t\t\t}\n",
       "\t\t\t\t\t\t\t\t\t\t\t\t});\n",
       "\t\t\t\t\t\t\t\t\t\t\t\t  jQuery('#product_addtocart_14068').modal('hide');\n",
       "\t\t\t\t\t\t\t\t\t\t\t\t  jQuery.post( \"https://www.adesfoods.co.uk/ades/checkout/icart/productcnt/\", { product: \"14068\" })\n",
       "\t\t\t\t\t\t\t\t\t\t\t\t.done(function( data ) {\n",
       "\t\t\t\t\t\t\t\t\t\t\t\t\tif(data!=0){\n",
       "\t\t\t\t\t\t\t\t\t\t\t\t\tjQuery('#inBasketQty14068').html(data);\n",
       "\t\t\t\t\t\t\t\t\t\t\t\t\tjQuery('#inBasket_show_14068').show(); \n",
       "\t\t\t\t\t\t\t\t\t\t\t\t\t}\n",
       "\t\t\t\t\t\t\t\t\t\t\t\t});\n",
       "\t\t\t\t\t\t\t\t\t\t\t }\n",
       "\t\t\t\t\t\t\t\t\t\t }.bind(productAddToCartForm_14068);\n",
       "\n",
       "\t\t\t\t\t\t\t\t\t</script>\n",
       "<div class=\"clearfix\"></div>\n",
       "<ul class=\"add-to-links\">\n",
       "<li><a class=\"link-wishlist\" href=\"https://www.adesfoods.co.uk/ades/wishlist/index/add/product/14068/form_key/Fnx2AssnJAOxUcU6/\">Add to Wishlist</a></li>\n",
       "</ul>\n",
       "</div>\n",
       "</div>\n",
       "<div class=\"label-product\">\n",
       "</div>\n",
       "</div>"
      ]
     },
     "execution_count": 8,
     "metadata": {},
     "output_type": "execute_result"
    }
   ],
   "source": [
    "results[0]"
   ]
  },
  {
   "cell_type": "code",
   "execution_count": 9,
   "id": "db3f2083",
   "metadata": {},
   "outputs": [
    {
     "data": {
      "text/plain": [
       "'\\n\\n                                Abodi Crown Peppersoup Cut 500g (Packgel)\\n                            \\n'"
      ]
     },
     "execution_count": 9,
     "metadata": {},
     "output_type": "execute_result"
    }
   ],
   "source": [
    "results[0].find('h2', {'class': 'product-name'}).get_text()"
   ]
  },
  {
   "cell_type": "code",
   "execution_count": 10,
   "id": "5afa06cd",
   "metadata": {},
   "outputs": [
    {
     "data": {
      "text/plain": [
       "'\\n\\n£2.49 \\n'"
      ]
     },
     "execution_count": 10,
     "metadata": {},
     "output_type": "execute_result"
    }
   ],
   "source": [
    "results[0].find('div', {'class': 'price-box'}).get_text()"
   ]
  },
  {
   "cell_type": "code",
   "execution_count": 11,
   "id": "612634d2",
   "metadata": {},
   "outputs": [],
   "source": [
    "product_name_class = results[0].find('h2', {'class': 'product-name'})\n",
    "relative_url = product_name_class.find('a').get('href')"
   ]
  },
  {
   "cell_type": "code",
   "execution_count": 12,
   "id": "81b212b9",
   "metadata": {},
   "outputs": [],
   "source": [
    "root_url = 'https://www.adesfoods.co.uk/'"
   ]
  },
  {
   "cell_type": "code",
   "execution_count": 13,
   "id": "a7a950a7",
   "metadata": {},
   "outputs": [
    {
     "name": "stdout",
     "output_type": "stream",
     "text": [
      "https://www.adesfoods.co.uk/https://www.adesfoods.co.uk/ades/fish-meat-poutry/fresh-frozen-beef-lamb-goat/abodi-crown-peppersoup-cut-500g-packgel.html\n"
     ]
    }
   ],
   "source": [
    "url_combine = root_url + relative_url\n",
    "print(url_combine)"
   ]
  },
  {
   "cell_type": "code",
   "execution_count": 14,
   "id": "c74c040e",
   "metadata": {},
   "outputs": [],
   "source": [
    "product_name = []\n",
    "product_price = []\n",
    "relative_url = []\n",
    "\n",
    "for i in range(1,6):\n",
    "    website = 'https://www.adesfoods.co.uk/ades/fish-meat-poutry/fresh-frozen-beef-lamb-goat.html?p=' + str(i)\n",
    "    \n",
    "    #request\n",
    "    response = requests.get(website)\n",
    "    \n",
    "    # soup object\n",
    "    soup = BeautifulSoup(response.content,'html.parser')\n",
    "    \n",
    "    # results\n",
    "    results = soup.find_all('div', {'class':'wrapper-hover'})\n",
    "    \n",
    "    #loop through results\n",
    "    for result in results:\n",
    "         #name\n",
    "        try:\n",
    "            product_name.append(result.find('h2', {'class': 'product-name'}).get_text())\n",
    "        except:\n",
    "            product_name.append('n/a')\n",
    "\n",
    "         #price\n",
    "        try:\n",
    "            product_price.append(result.find('div', {'class': 'price-box'}).get_text())\n",
    "        except:\n",
    "            product_price.append('n/a')\n",
    "\n",
    "         #relative url\n",
    "        try:\n",
    "            relative_url.append(result.find('a').get('href'))\n",
    "        except:\n",
    "            relative_url.append('n/a')\n"
   ]
  },
  {
   "cell_type": "code",
   "execution_count": 15,
   "id": "c573f214",
   "metadata": {},
   "outputs": [],
   "source": [
    "url_combined = []\n",
    "\n",
    "for link in relative_url:\n",
    "    url_combined.append(urllib.parse.urljoin(root_url,link))"
   ]
  },
  {
   "cell_type": "code",
   "execution_count": 16,
   "id": "5fecfaf3",
   "metadata": {},
   "outputs": [],
   "source": [
    "product_overview = pd.DataFrame({'Name': product_name, 'Price': product_price })"
   ]
  },
  {
   "cell_type": "code",
   "execution_count": 17,
   "id": "e28de439",
   "metadata": {},
   "outputs": [
    {
     "data": {
      "text/html": [
       "<div>\n",
       "<style scoped>\n",
       "    .dataframe tbody tr th:only-of-type {\n",
       "        vertical-align: middle;\n",
       "    }\n",
       "\n",
       "    .dataframe tbody tr th {\n",
       "        vertical-align: top;\n",
       "    }\n",
       "\n",
       "    .dataframe thead th {\n",
       "        text-align: right;\n",
       "    }\n",
       "</style>\n",
       "<table border=\"1\" class=\"dataframe\">\n",
       "  <thead>\n",
       "    <tr style=\"text-align: right;\">\n",
       "      <th></th>\n",
       "      <th>Name</th>\n",
       "      <th>Price</th>\n",
       "    </tr>\n",
       "  </thead>\n",
       "  <tbody>\n",
       "    <tr>\n",
       "      <th>0</th>\n",
       "      <td>\\n\\n                                Abodi Crow...</td>\n",
       "      <td>\\n\\n£2.49 \\n</td>\n",
       "    </tr>\n",
       "    <tr>\n",
       "      <th>1</th>\n",
       "      <td>\\n\\n                                Ades Froze...</td>\n",
       "      <td>\\n\\n£8.49 \\n</td>\n",
       "    </tr>\n",
       "    <tr>\n",
       "      <th>2</th>\n",
       "      <td>\\n\\n                                Beef Manif...</td>\n",
       "      <td>\\n\\n£3.99 \\n</td>\n",
       "    </tr>\n",
       "    <tr>\n",
       "      <th>3</th>\n",
       "      <td>\\n\\n                                Beef Shoul...</td>\n",
       "      <td>\\n\\n£6.49 \\n</td>\n",
       "    </tr>\n",
       "    <tr>\n",
       "      <th>4</th>\n",
       "      <td>\\n\\n                                Beef Tripe...</td>\n",
       "      <td>\\n\\n£3.99 \\n</td>\n",
       "    </tr>\n",
       "    <tr>\n",
       "      <th>...</th>\n",
       "      <td>...</td>\n",
       "      <td>...</td>\n",
       "    </tr>\n",
       "    <tr>\n",
       "      <th>59</th>\n",
       "      <td>\\n\\n                                Frozen Roy...</td>\n",
       "      <td>\\n\\n£2.99 \\n</td>\n",
       "    </tr>\n",
       "    <tr>\n",
       "      <th>60</th>\n",
       "      <td>\\n\\n                                Frozen Smo...</td>\n",
       "      <td>\\n\\n£5.49 \\n</td>\n",
       "    </tr>\n",
       "    <tr>\n",
       "      <th>61</th>\n",
       "      <td>\\n\\n                                Frozen Smo...</td>\n",
       "      <td>\\n\\n£5.49 \\n</td>\n",
       "    </tr>\n",
       "    <tr>\n",
       "      <th>62</th>\n",
       "      <td>\\n\\n                                Frozen Smo...</td>\n",
       "      <td>\\n\\n£2.99 \\n</td>\n",
       "    </tr>\n",
       "    <tr>\n",
       "      <th>63</th>\n",
       "      <td>\\n\\n                                Lamb Shoul...</td>\n",
       "      <td>\\n\\n£6.99 \\n</td>\n",
       "    </tr>\n",
       "  </tbody>\n",
       "</table>\n",
       "<p>64 rows × 2 columns</p>\n",
       "</div>"
      ],
      "text/plain": [
       "                                                 Name         Price\n",
       "0   \\n\\n                                Abodi Crow...  \\n\\n£2.49 \\n\n",
       "1   \\n\\n                                Ades Froze...  \\n\\n£8.49 \\n\n",
       "2   \\n\\n                                Beef Manif...  \\n\\n£3.99 \\n\n",
       "3   \\n\\n                                Beef Shoul...  \\n\\n£6.49 \\n\n",
       "4   \\n\\n                                Beef Tripe...  \\n\\n£3.99 \\n\n",
       "..                                                ...           ...\n",
       "59  \\n\\n                                Frozen Roy...  \\n\\n£2.99 \\n\n",
       "60  \\n\\n                                Frozen Smo...  \\n\\n£5.49 \\n\n",
       "61  \\n\\n                                Frozen Smo...  \\n\\n£5.49 \\n\n",
       "62  \\n\\n                                Frozen Smo...  \\n\\n£2.99 \\n\n",
       "63  \\n\\n                                Lamb Shoul...  \\n\\n£6.99 \\n\n",
       "\n",
       "[64 rows x 2 columns]"
      ]
     },
     "execution_count": 17,
     "metadata": {},
     "output_type": "execute_result"
    }
   ],
   "source": [
    "product_overview"
   ]
  },
  {
   "cell_type": "code",
   "execution_count": null,
   "id": "97650331",
   "metadata": {},
   "outputs": [],
   "source": []
  }
 ],
 "metadata": {
  "kernelspec": {
   "display_name": "Python 3",
   "language": "python",
   "name": "python3"
  },
  "language_info": {
   "codemirror_mode": {
    "name": "ipython",
    "version": 3
   },
   "file_extension": ".py",
   "mimetype": "text/x-python",
   "name": "python",
   "nbconvert_exporter": "python",
   "pygments_lexer": "ipython3",
   "version": "3.8.8"
  }
 },
 "nbformat": 4,
 "nbformat_minor": 5
}
