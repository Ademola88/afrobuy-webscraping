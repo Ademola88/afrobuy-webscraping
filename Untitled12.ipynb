{
 "cells": [
  {
   "cell_type": "code",
   "execution_count": 1,
   "id": "0f080fd3",
   "metadata": {},
   "outputs": [],
   "source": [
    "from bs4 import BeautifulSoup\n",
    "import requests\n",
    "import pandas as pd\n",
    "import urllib.parse"
   ]
  },
  {
   "cell_type": "code",
   "execution_count": 2,
   "id": "67b0462e",
   "metadata": {},
   "outputs": [],
   "source": [
    "website = 'https://www.adesfoods.co.uk/ades/groceries/oil.html'"
   ]
  },
  {
   "cell_type": "code",
   "execution_count": 3,
   "id": "943328f9",
   "metadata": {},
   "outputs": [],
   "source": [
    "response = requests.get(website)"
   ]
  },
  {
   "cell_type": "code",
   "execution_count": 4,
   "id": "2d419830",
   "metadata": {},
   "outputs": [
    {
     "data": {
      "text/plain": [
       "200"
      ]
     },
     "execution_count": 4,
     "metadata": {},
     "output_type": "execute_result"
    }
   ],
   "source": [
    "response.status_code"
   ]
  },
  {
   "cell_type": "code",
   "execution_count": 5,
   "id": "ee453224",
   "metadata": {},
   "outputs": [],
   "source": [
    "soup = BeautifulSoup(response.content,'html.parser')"
   ]
  },
  {
   "cell_type": "code",
   "execution_count": 6,
   "id": "2ac1d99b",
   "metadata": {},
   "outputs": [],
   "source": [
    "results = soup.find_all('div', {'class':'wrapper-hover'})"
   ]
  },
  {
   "cell_type": "code",
   "execution_count": 7,
   "id": "3a8ba891",
   "metadata": {},
   "outputs": [
    {
     "data": {
      "text/plain": [
       "15"
      ]
     },
     "execution_count": 7,
     "metadata": {},
     "output_type": "execute_result"
    }
   ],
   "source": [
    "len(results)"
   ]
  },
  {
   "cell_type": "code",
   "execution_count": 8,
   "id": "bf72b7b7",
   "metadata": {},
   "outputs": [
    {
     "data": {
      "text/plain": [
       "<div class=\"wrapper-hover\">\n",
       "<div class=\"product-image-container\">\n",
       "<a class=\"product-image\" href=\"https://www.adesfoods.co.uk/ades/groceries/oil/palm-oil-ades-original-ghana-18ltrs.html\" itemprop=\"url\" title=\"Ades Palm Oil (Ghana) 18Ltrs\">\n",
       "<img alt=\"Ades Palm Oil (Ghana) 18Ltrs\" class=\"lazy\" data-src=\"https://www.adesfoods.co.uk/media/catalog/product/cache/4/small_image/210x/9df78eab33525d08d6e5fb8d27136e95/i/m/img_8459.jpg\" id=\"product-collection-image-15529\" src=\"https://www.adesfoods.co.uk/skin/frontend/base/default/images/mgt_lazy_image_loader/loader.gif\" width=\"210\"/>\n",
       "</a>\n",
       "</div>\n",
       "<div class=\"product-info\">\n",
       "<h2 class=\"product-name\">\n",
       "<a href=\"https://www.adesfoods.co.uk/ades/groceries/oil/palm-oil-ades-original-ghana-18ltrs.html\" itemprop=\"name\" title=\"Ades Palm Oil (Ghana) 18Ltrs\">\n",
       "                                Ades Palm Oil (Ghana) 18Ltrs\n",
       "                            </a>\n",
       "</h2>\n",
       "<div class=\"desc_grid\" itemprop=\"description\">Palm Oil/Oil/Ades Palm Oil (Ghana) 18Ltrs                        </div>\n",
       "<div class=\"price-box\">\n",
       "<span class=\"regular-price\" id=\"product-price-15529\">\n",
       "<span class=\"price\">£30.00</span> </span>\n",
       "</div>\n",
       "<div class=\"actions\">\n",
       "<form action=\"https://www.adesfoods.co.uk/ades/checkout/icart/add/uenc/aHR0cHM6Ly93d3cuYWRlc2Zvb2RzLmNvLnVrL2FkZXMvZ3JvY2VyaWVzL29pbC5odG1s/product/15529/\" id=\"product_addtocart_form_15529\" method=\"post\">\n",
       "<div id=\"getdataform15529\">\n",
       "</div>\n",
       "<div class=\"qty-updater\"> <a class=\"left\" href=\"javascript:void(0)\" onclick=\"decrementQty(this);\"><i aria-hidden=\"true\" class=\"fa fa-minus\"></i></a>\n",
       "<input class=\"input-text qty\" id=\"15529\" maxlength=\"12\" name=\"qty\" pattern=\"\\d*\" title=\"Qty\" type=\"text\" value=\"1\"/>\n",
       "<a class=\"right\" href=\"javascript:void(0);\" onclick=\"incrementQty(this);\"><i aria-hidden=\"true\" class=\"fa fa-plus\"></i></a></div>\n",
       "<button class=\"button btn-cart del-15529\" onclick=\"setLocationAjax('https://www.adesfoods.co.uk/ades/checkout/icart/add/uenc/aHR0cHM6Ly93d3cuYWRlc2Zvb2RzLmNvLnVrL2FkZXMvZ3JvY2VyaWVzL29pbC5odG1s/product/15529/','15529')\" title=\"Add to Cart\" type=\"button\"><span><span>Add</span></span></button>\n",
       "<span id=\"ajax_loader15529\" style=\"display:none\"><img src=\"https://www.adesfoods.co.uk/skin/frontend/adesfoods/default/images/opc-ajax-loader.gif\"/></span>\n",
       "<span class=\"basket-btn\" id=\"inBasket_show_15529\" style=\"display:none;\"><i aria-hidden=\"true\" class=\"fa fa-check\"></i><span id=\"inBasketQty15529\">0</span> in basket</span>\n",
       "</form>\n",
       "<script type=\"text/javascript\">\n",
       "\n",
       "\n",
       "\t\t\t\t\t\t\t\t\t\t var productAddToCartForm_15529 = new VarienForm('product_addtocart_form_15529');\n",
       "\t\t\t\t\t\t\t\t\t\t productAddToCartForm_15529.submit = function(){\n",
       "\n",
       "\t\t\t\t\t\t\t\t\t\t if (this.validator.validate()) {\n",
       "\t\t\t\t\t\t\t\t\t\tvar url = jQuery('#product_addtocart_form_15529').attr( 'action' );\n",
       "\t\t\t\t\t\t\t\t\t\t//alert(url);return false;\n",
       "\t\t\t\t\t\t\t\t\t\t //ajaxcart.ajaxCartSubmit(this);\n",
       "\t\t\t\t\t\t\t\t\t\t\t\t// this.form.submit();\n",
       "\t\t\t\t\t\t\t\t\t\t\t\tjQuery.ajax( {\n",
       "\t\t\t\t\t\t\t\t\t\t\t\turl : url,\n",
       "\t\t\t\t\t\t\t\t\t\t\t\tasync:false,\n",
       "\t\t\t\t\t\t\t\t\t\t\t\tmethod:'post',\n",
       "\t\t\t\t\t\t\t\t\t\t\t\tdata: jQuery(\"#product_addtocart_form_15529\").serialize(),\t\t\t\n",
       "\t\t\t\t\t\t\t\t\t\t\t\tsuccess : function(transport) {\n",
       "\t\t\t\t\t\t\t\t\t\t\t\t\tvar resp=new String(transport);   \n",
       "\t\t\t\t\t\t\t\t\t\t\t\t\tevaluate(resp);\n",
       "\t\t\t\t\t\t\t\t\t\t\t\t},\n",
       "\t\t\t\t\t\t\t\t\t\t\t\terror: function (textStatus, errorThrown) {   \n",
       "\t\t\t\t\t\t\t\t\t\t\t\t}\n",
       "\t\t\t\t\t\t\t\t\t\t\t\t});\n",
       "\t\t\t\t\t\t\t\t\t\t\t\t  jQuery('#product_addtocart_15529').modal('hide');\n",
       "\t\t\t\t\t\t\t\t\t\t\t\t  jQuery.post( \"https://www.adesfoods.co.uk/ades/checkout/icart/productcnt/\", { product: \"15529\" })\n",
       "\t\t\t\t\t\t\t\t\t\t\t\t.done(function( data ) {\n",
       "\t\t\t\t\t\t\t\t\t\t\t\t\tif(data!=0){\n",
       "\t\t\t\t\t\t\t\t\t\t\t\t\tjQuery('#inBasketQty15529').html(data);\n",
       "\t\t\t\t\t\t\t\t\t\t\t\t\tjQuery('#inBasket_show_15529').show(); \n",
       "\t\t\t\t\t\t\t\t\t\t\t\t\t}\n",
       "\t\t\t\t\t\t\t\t\t\t\t\t});\n",
       "\t\t\t\t\t\t\t\t\t\t\t }\n",
       "\t\t\t\t\t\t\t\t\t\t }.bind(productAddToCartForm_15529);\n",
       "\n",
       "\t\t\t\t\t\t\t\t\t</script>\n",
       "<div class=\"clearfix\"></div>\n",
       "<ul class=\"add-to-links\">\n",
       "<li><a class=\"link-wishlist\" href=\"https://www.adesfoods.co.uk/ades/wishlist/index/add/product/15529/form_key/Lvxz7qjdGOhnxUR3/\">Add to Wishlist</a></li>\n",
       "</ul>\n",
       "</div>\n",
       "</div>\n",
       "<div class=\"label-product\">\n",
       "</div>\n",
       "</div>"
      ]
     },
     "execution_count": 8,
     "metadata": {},
     "output_type": "execute_result"
    }
   ],
   "source": [
    "results[0]"
   ]
  },
  {
   "cell_type": "code",
   "execution_count": 9,
   "id": "4f27d6b3",
   "metadata": {},
   "outputs": [
    {
     "data": {
      "text/plain": [
       "'\\n\\n                                Ades Palm Oil (Ghana) 18Ltrs\\n                            \\n'"
      ]
     },
     "execution_count": 9,
     "metadata": {},
     "output_type": "execute_result"
    }
   ],
   "source": [
    "results[0].find('h2', {'class': 'product-name'}).get_text()"
   ]
  },
  {
   "cell_type": "code",
   "execution_count": 10,
   "id": "ced14536",
   "metadata": {},
   "outputs": [
    {
     "data": {
      "text/plain": [
       "'\\n\\n£30.00 \\n'"
      ]
     },
     "execution_count": 10,
     "metadata": {},
     "output_type": "execute_result"
    }
   ],
   "source": [
    "results[0].find('div', {'class': 'price-box'}).get_text()"
   ]
  },
  {
   "cell_type": "code",
   "execution_count": 11,
   "id": "f0ce4b58",
   "metadata": {},
   "outputs": [],
   "source": [
    "product_name_class = results[0].find('h2', {'class': 'product-name'})\n",
    "relative_url = product_name_class.find('a').get('href')"
   ]
  },
  {
   "cell_type": "code",
   "execution_count": 12,
   "id": "d74d4edd",
   "metadata": {},
   "outputs": [],
   "source": [
    "root_url = 'https://www.adesfoods.co.uk/'"
   ]
  },
  {
   "cell_type": "code",
   "execution_count": 13,
   "id": "b535bb81",
   "metadata": {},
   "outputs": [
    {
     "name": "stdout",
     "output_type": "stream",
     "text": [
      "https://www.adesfoods.co.uk/https://www.adesfoods.co.uk/ades/groceries/oil/palm-oil-ades-original-ghana-18ltrs.html\n"
     ]
    }
   ],
   "source": [
    "url_combine = root_url + relative_url\n",
    "print(url_combine)"
   ]
  },
  {
   "cell_type": "code",
   "execution_count": 14,
   "id": "27ffeae5",
   "metadata": {},
   "outputs": [],
   "source": [
    "product_name = []\n",
    "product_price = []\n",
    "relative_url = []\n",
    "\n",
    "for i in range(1,7):\n",
    "    website = 'https://www.adesfoods.co.uk/ades/groceries/oil.html?p=' + str(i)\n",
    "    \n",
    "    #request\n",
    "    response = requests.get(website)\n",
    "    \n",
    "    # soup object\n",
    "    soup = BeautifulSoup(response.content,'html.parser')\n",
    "    \n",
    "    # results\n",
    "    results = soup.find_all('div', {'class':'wrapper-hover'})\n",
    "    \n",
    "    #loop through results\n",
    "    for result in results:\n",
    "         #name\n",
    "        try:\n",
    "            product_name.append(result.find('h2', {'class': 'product-name'}).get_text())\n",
    "        except:\n",
    "            product_name.append('n/a')\n",
    "\n",
    "         #price\n",
    "        try:\n",
    "            product_price.append(result.find('div', {'class': 'price-box'}).get_text())\n",
    "        except:\n",
    "            product_price.append('n/a')\n",
    "\n",
    "         #relative url\n",
    "        try:\n",
    "            relative_url.append(result.find('a').get('href'))\n",
    "        except:\n",
    "            relative_url.append('n/a')\n"
   ]
  },
  {
   "cell_type": "code",
   "execution_count": 15,
   "id": "29dfd976",
   "metadata": {},
   "outputs": [],
   "source": [
    "url_combined = []\n",
    "\n",
    "for link in relative_url:\n",
    "    url_combined.append(urllib.parse.urljoin(root_url,link))"
   ]
  },
  {
   "cell_type": "code",
   "execution_count": 16,
   "id": "3ea4c733",
   "metadata": {},
   "outputs": [],
   "source": [
    "product_overview = pd.DataFrame({'Name': product_name, 'Price': product_price })"
   ]
  },
  {
   "cell_type": "code",
   "execution_count": 17,
   "id": "c7668138",
   "metadata": {},
   "outputs": [
    {
     "data": {
      "text/html": [
       "<div>\n",
       "<style scoped>\n",
       "    .dataframe tbody tr th:only-of-type {\n",
       "        vertical-align: middle;\n",
       "    }\n",
       "\n",
       "    .dataframe tbody tr th {\n",
       "        vertical-align: top;\n",
       "    }\n",
       "\n",
       "    .dataframe thead th {\n",
       "        text-align: right;\n",
       "    }\n",
       "</style>\n",
       "<table border=\"1\" class=\"dataframe\">\n",
       "  <thead>\n",
       "    <tr style=\"text-align: right;\">\n",
       "      <th></th>\n",
       "      <th>Name</th>\n",
       "      <th>Price</th>\n",
       "    </tr>\n",
       "  </thead>\n",
       "  <tbody>\n",
       "    <tr>\n",
       "      <th>0</th>\n",
       "      <td>\\n\\n                                Ades Palm ...</td>\n",
       "      <td>\\n\\n£30.00 \\n</td>\n",
       "    </tr>\n",
       "    <tr>\n",
       "      <th>1</th>\n",
       "      <td>\\n\\n                                Ades Palm ...</td>\n",
       "      <td>\\n\\n£2.99 \\n</td>\n",
       "    </tr>\n",
       "    <tr>\n",
       "      <th>2</th>\n",
       "      <td>\\n\\n                                Ades Palm ...</td>\n",
       "      <td>\\n\\n£5.99 \\n</td>\n",
       "    </tr>\n",
       "    <tr>\n",
       "      <th>3</th>\n",
       "      <td>\\n\\n                                Ades Palm ...</td>\n",
       "      <td>\\n\\n£9.99 \\n</td>\n",
       "    </tr>\n",
       "    <tr>\n",
       "      <th>4</th>\n",
       "      <td>\\n\\n                                Ades Palm ...</td>\n",
       "      <td>\\n\\n£1.99 \\n</td>\n",
       "    </tr>\n",
       "    <tr>\n",
       "      <th>...</th>\n",
       "      <td>...</td>\n",
       "      <td>...</td>\n",
       "    </tr>\n",
       "    <tr>\n",
       "      <th>85</th>\n",
       "      <td>\\n\\n                                Pride Sunf...</td>\n",
       "      <td>\\n\\n£2.49 \\n</td>\n",
       "    </tr>\n",
       "    <tr>\n",
       "      <th>86</th>\n",
       "      <td>\\n\\n                                Pride Sunf...</td>\n",
       "      <td>\\n\\n£3.99 \\n</td>\n",
       "    </tr>\n",
       "    <tr>\n",
       "      <th>87</th>\n",
       "      <td>\\n\\n                                Pride Sunf...</td>\n",
       "      <td>\\n\\n£11.99 \\n</td>\n",
       "    </tr>\n",
       "    <tr>\n",
       "      <th>88</th>\n",
       "      <td>\\n\\n                                Pride Vege...</td>\n",
       "      <td>\\n\\n£1.29 \\n</td>\n",
       "    </tr>\n",
       "    <tr>\n",
       "      <th>89</th>\n",
       "      <td>\\n\\n                                Romano Ext...</td>\n",
       "      <td>\\n\\n£17.99 \\n</td>\n",
       "    </tr>\n",
       "  </tbody>\n",
       "</table>\n",
       "<p>90 rows × 2 columns</p>\n",
       "</div>"
      ],
      "text/plain": [
       "                                                 Name          Price\n",
       "0   \\n\\n                                Ades Palm ...  \\n\\n£30.00 \\n\n",
       "1   \\n\\n                                Ades Palm ...   \\n\\n£2.99 \\n\n",
       "2   \\n\\n                                Ades Palm ...   \\n\\n£5.99 \\n\n",
       "3   \\n\\n                                Ades Palm ...   \\n\\n£9.99 \\n\n",
       "4   \\n\\n                                Ades Palm ...   \\n\\n£1.99 \\n\n",
       "..                                                ...            ...\n",
       "85  \\n\\n                                Pride Sunf...   \\n\\n£2.49 \\n\n",
       "86  \\n\\n                                Pride Sunf...   \\n\\n£3.99 \\n\n",
       "87  \\n\\n                                Pride Sunf...  \\n\\n£11.99 \\n\n",
       "88  \\n\\n                                Pride Vege...   \\n\\n£1.29 \\n\n",
       "89  \\n\\n                                Romano Ext...  \\n\\n£17.99 \\n\n",
       "\n",
       "[90 rows x 2 columns]"
      ]
     },
     "execution_count": 17,
     "metadata": {},
     "output_type": "execute_result"
    }
   ],
   "source": [
    "product_overview"
   ]
  },
  {
   "cell_type": "code",
   "execution_count": null,
   "id": "dc9e7fac",
   "metadata": {},
   "outputs": [],
   "source": [
    "product_overview.to_excel('results_spicyseasoning_page.xlsx', index=False)"
   ]
  }
 ],
 "metadata": {
  "kernelspec": {
   "display_name": "Python 3",
   "language": "python",
   "name": "python3"
  },
  "language_info": {
   "codemirror_mode": {
    "name": "ipython",
    "version": 3
   },
   "file_extension": ".py",
   "mimetype": "text/x-python",
   "name": "python",
   "nbconvert_exporter": "python",
   "pygments_lexer": "ipython3",
   "version": "3.8.8"
  }
 },
 "nbformat": 4,
 "nbformat_minor": 5
}
